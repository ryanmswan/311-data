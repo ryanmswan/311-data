{
 "cells": [
  {
   "cell_type": "markdown",
   "metadata": {},
   "source": [
    "### Area of Medical Services Shortage Classification (Catboost Multi-Class Classifier)\n",
    "\n",
    "1. Data was first pre-processed and load the final version of la_facility_mua.csv here\n",
    "\n",
    "2. Since feature engineering has been done, a few touch-ups before training:\n",
    "\n",
    "a) **Feature Mapping,**\n",
    "\n",
    "b) **Dropping useless variables,**\n",
    "\n",
    "c) **Datetime conversion,**\n",
    "\n",
    "d) **Days Diff**\n",
    "\n",
    "3. We have 51-classes of Zip Codes. \n",
    "\n",
    "a) Group Zip Codes into **10** categories(0-9) based on **Severity of Shortage**\n",
    "\n",
    "b) **9** represents the **Highest Shortage** while **0** represents the **Lowest Shortage**\n",
    "\n",
    "c) Name the new variable as **'Zip Class'** which is our **Target** (what we will try to predict here)**\n",
    "\n",
    "4. Data was split into Train and Validation\n",
    "\n",
    "5. Model: **CatboostClassifier**\n",
    "\n",
    "6. 2 Methods:\n",
    "\n",
    "a) Method-1: Simple train-test-split \n",
    "\n",
    "b) Method-2: 6-KFold "
   ]
  },
  {
   "cell_type": "code",
   "execution_count": 2,
   "metadata": {},
   "outputs": [],
   "source": [
    "import os\n",
    "os.environ['PYTHONHASHSEED']='0'"
   ]
  },
  {
   "cell_type": "code",
   "execution_count": 3,
   "metadata": {},
   "outputs": [
    {
     "name": "stderr",
     "output_type": "stream",
     "text": [
      "Using TensorFlow backend.\n"
     ]
    }
   ],
   "source": [
    "import pandas as pd\n",
    "import numpy as np\n",
    "import random as rn\n",
    "# Deep Learning Libraries\n",
    "from tensorflow import keras\n",
    "from tensorflow.keras import Sequential\n",
    "from tensorflow.keras.layers import Flatten,Dense,Dropout,BatchNormalization\n",
    "from tensorflow.keras.layers import Conv1D,MaxPool1D\n",
    "from tensorflow.keras.optimizers import Adam\n",
    "from tensorflow.keras.callbacks import EarlyStopping, ReduceLROnPlateau, ModelCheckpoint\n",
    "from tensorflow.keras import callbacks\n",
    "from tensorflow.keras.models import load_model\n",
    "import tensorflow as tf\n",
    "np.random.seed(37)\n",
    "rn.seed(42)\n",
    "tf.random.set_seed(42)\n",
    "from keras import backend as K"
   ]
  },
  {
   "cell_type": "code",
   "execution_count": 4,
   "metadata": {},
   "outputs": [],
   "source": [
    "import pandas as pd\n",
    "import numpy as np\n",
    "import seaborn as sns\n",
    "import re\n",
    "from datetime import datetime\n",
    "import matplotlib.pyplot as plt\n",
    "%matplotlib inline\n",
    "import matplotlib.gridspec as gridspec\n",
    "from math import sqrt \n",
    "from sklearn.metrics import log_loss\n",
    "import lightgbm as lgb\n",
    "from sklearn.preprocessing import StandardScaler\n",
    "from sklearn.metrics import auc,roc_auc_score\n",
    "from catboost import CatBoostClassifier,Pool, cv\n",
    "from sklearn.preprocessing import LabelEncoder\n",
    "from lightgbm import LGBMClassifier\n",
    "from sklearn.metrics import roc_curve, auc, classification_report, confusion_matrix, accuracy_score\n",
    "from sklearn.model_selection import train_test_split, cross_val_score, KFold, StratifiedKFold\n",
    "\n",
    "la_facility_mua = pd.read_csv('../input/la-final-data-2/la_facility_mua.csv')"
   ]
  },
  {
   "cell_type": "code",
   "execution_count": 5,
   "metadata": {},
   "outputs": [
    {
     "data": {
      "text/html": [
       "<div>\n",
       "<style scoped>\n",
       "    .dataframe tbody tr th:only-of-type {\n",
       "        vertical-align: middle;\n",
       "    }\n",
       "\n",
       "    .dataframe tbody tr th {\n",
       "        vertical-align: top;\n",
       "    }\n",
       "\n",
       "    .dataframe thead th {\n",
       "        text-align: right;\n",
       "    }\n",
       "</style>\n",
       "<table border=\"1\" class=\"dataframe\">\n",
       "  <thead>\n",
       "    <tr style=\"text-align: right;\">\n",
       "      <th></th>\n",
       "      <th>source</th>\n",
       "      <th>cat1</th>\n",
       "      <th>cat2</th>\n",
       "      <th>org_name</th>\n",
       "      <th>Name</th>\n",
       "      <th>addrln1</th>\n",
       "      <th>city</th>\n",
       "      <th>state</th>\n",
       "      <th>post_id</th>\n",
       "      <th>description</th>\n",
       "      <th>...</th>\n",
       "      <th>facility_address_1</th>\n",
       "      <th>MUA_RuralStatus</th>\n",
       "      <th>MUA_Designated_Time</th>\n",
       "      <th>MUA_Designated_Date</th>\n",
       "      <th>MUA_MSSA_Name_1</th>\n",
       "      <th>MUA_Updated_Time</th>\n",
       "      <th>MUA_Updated_Date</th>\n",
       "      <th>MUA_Poverty</th>\n",
       "      <th>MUA_Score</th>\n",
       "      <th>MUA_Pct_100Poverty</th>\n",
       "    </tr>\n",
       "  </thead>\n",
       "  <tbody>\n",
       "    <tr>\n",
       "      <th>0</th>\n",
       "      <td>211</td>\n",
       "      <td>Social Services</td>\n",
       "      <td>Children and Family Services</td>\n",
       "      <td>neweconomicsforwomen.org</td>\n",
       "      <td>New Economics For Women - Familysource Center ...</td>\n",
       "      <td>501 S. Bixel St.</td>\n",
       "      <td>Los Angeles</td>\n",
       "      <td>CA</td>\n",
       "      <td>56652</td>\n",
       "      <td>The agency is an economic development organiza...</td>\n",
       "      <td>...</td>\n",
       "      <td>415 South Union Avenue</td>\n",
       "      <td>Urban</td>\n",
       "      <td>1.067990e+12</td>\n",
       "      <td>2003-11-05</td>\n",
       "      <td>MSSA 78.2b (Pico Union/Westlake)</td>\n",
       "      <td>1.067990e+12</td>\n",
       "      <td>2003-11-05</td>\n",
       "      <td>157757.0</td>\n",
       "      <td>51.0</td>\n",
       "      <td>0.0</td>\n",
       "    </tr>\n",
       "    <tr>\n",
       "      <th>1</th>\n",
       "      <td>211</td>\n",
       "      <td>Social Services</td>\n",
       "      <td>Children and Family Services</td>\n",
       "      <td>neweconomicsforwomen.org</td>\n",
       "      <td>New Economics For Women - Familysource Center ...</td>\n",
       "      <td>501 S. Bixel St.</td>\n",
       "      <td>Los Angeles</td>\n",
       "      <td>CA</td>\n",
       "      <td>56652</td>\n",
       "      <td>The agency is an economic development organiza...</td>\n",
       "      <td>...</td>\n",
       "      <td>600 St Paul Ave</td>\n",
       "      <td>Urban</td>\n",
       "      <td>7.686144e+11</td>\n",
       "      <td>1994-05-11</td>\n",
       "      <td>Westlake Service Area</td>\n",
       "      <td>1.005782e+12</td>\n",
       "      <td>2001-11-15</td>\n",
       "      <td>0.0</td>\n",
       "      <td>60.1</td>\n",
       "      <td>0.0</td>\n",
       "    </tr>\n",
       "    <tr>\n",
       "      <th>2</th>\n",
       "      <td>211</td>\n",
       "      <td>Social Services</td>\n",
       "      <td>Children and Family Services</td>\n",
       "      <td>neweconomicsforwomen.org</td>\n",
       "      <td>New Economics For Women - Familysource Center ...</td>\n",
       "      <td>501 S. Bixel St.</td>\n",
       "      <td>Los Angeles</td>\n",
       "      <td>CA</td>\n",
       "      <td>56652</td>\n",
       "      <td>The agency is an economic development organiza...</td>\n",
       "      <td>...</td>\n",
       "      <td>1125 W 6th St</td>\n",
       "      <td>Urban</td>\n",
       "      <td>7.686144e+11</td>\n",
       "      <td>1994-05-11</td>\n",
       "      <td>Westlake Service Area</td>\n",
       "      <td>1.005782e+12</td>\n",
       "      <td>2001-11-15</td>\n",
       "      <td>0.0</td>\n",
       "      <td>60.1</td>\n",
       "      <td>0.0</td>\n",
       "    </tr>\n",
       "    <tr>\n",
       "      <th>3</th>\n",
       "      <td>211</td>\n",
       "      <td>Social Services</td>\n",
       "      <td>Children and Family Services</td>\n",
       "      <td>neweconomicsforwomen.org</td>\n",
       "      <td>New Economics For Women - Familysource Center ...</td>\n",
       "      <td>501 S. Bixel St.</td>\n",
       "      <td>Los Angeles</td>\n",
       "      <td>CA</td>\n",
       "      <td>56652</td>\n",
       "      <td>The agency is an economic development organiza...</td>\n",
       "      <td>...</td>\n",
       "      <td>1225 Wilshire Boulevard</td>\n",
       "      <td>Urban</td>\n",
       "      <td>7.686144e+11</td>\n",
       "      <td>1994-05-11</td>\n",
       "      <td>Westlake Service Area</td>\n",
       "      <td>1.005782e+12</td>\n",
       "      <td>2001-11-15</td>\n",
       "      <td>0.0</td>\n",
       "      <td>60.1</td>\n",
       "      <td>0.0</td>\n",
       "    </tr>\n",
       "    <tr>\n",
       "      <th>4</th>\n",
       "      <td>211</td>\n",
       "      <td>Social Services</td>\n",
       "      <td>Children and Family Services</td>\n",
       "      <td>neweconomicsforwomen.org</td>\n",
       "      <td>New Economics For Women - Familysource Center ...</td>\n",
       "      <td>501 S. Bixel St.</td>\n",
       "      <td>Los Angeles</td>\n",
       "      <td>CA</td>\n",
       "      <td>56652</td>\n",
       "      <td>The agency is an economic development organiza...</td>\n",
       "      <td>...</td>\n",
       "      <td>1127 Wilshire Blvd</td>\n",
       "      <td>Urban</td>\n",
       "      <td>7.686144e+11</td>\n",
       "      <td>1994-05-11</td>\n",
       "      <td>Westlake Service Area</td>\n",
       "      <td>1.005782e+12</td>\n",
       "      <td>2001-11-15</td>\n",
       "      <td>0.0</td>\n",
       "      <td>60.1</td>\n",
       "      <td>0.0</td>\n",
       "    </tr>\n",
       "  </tbody>\n",
       "</table>\n",
       "<p>5 rows × 32 columns</p>\n",
       "</div>"
      ],
      "text/plain": [
       "  source             cat1                          cat2  \\\n",
       "0    211  Social Services  Children and Family Services   \n",
       "1    211  Social Services  Children and Family Services   \n",
       "2    211  Social Services  Children and Family Services   \n",
       "3    211  Social Services  Children and Family Services   \n",
       "4    211  Social Services  Children and Family Services   \n",
       "\n",
       "                   org_name  \\\n",
       "0  neweconomicsforwomen.org   \n",
       "1  neweconomicsforwomen.org   \n",
       "2  neweconomicsforwomen.org   \n",
       "3  neweconomicsforwomen.org   \n",
       "4  neweconomicsforwomen.org   \n",
       "\n",
       "                                                Name           addrln1  \\\n",
       "0  New Economics For Women - Familysource Center ...  501 S. Bixel St.   \n",
       "1  New Economics For Women - Familysource Center ...  501 S. Bixel St.   \n",
       "2  New Economics For Women - Familysource Center ...  501 S. Bixel St.   \n",
       "3  New Economics For Women - Familysource Center ...  501 S. Bixel St.   \n",
       "4  New Economics For Women - Familysource Center ...  501 S. Bixel St.   \n",
       "\n",
       "          city state  post_id  \\\n",
       "0  Los Angeles    CA    56652   \n",
       "1  Los Angeles    CA    56652   \n",
       "2  Los Angeles    CA    56652   \n",
       "3  Los Angeles    CA    56652   \n",
       "4  Los Angeles    CA    56652   \n",
       "\n",
       "                                         description  ...  \\\n",
       "0  The agency is an economic development organiza...  ...   \n",
       "1  The agency is an economic development organiza...  ...   \n",
       "2  The agency is an economic development organiza...  ...   \n",
       "3  The agency is an economic development organiza...  ...   \n",
       "4  The agency is an economic development organiza...  ...   \n",
       "\n",
       "        facility_address_1 MUA_RuralStatus  MUA_Designated_Time  \\\n",
       "0   415 South Union Avenue           Urban         1.067990e+12   \n",
       "1          600 St Paul Ave           Urban         7.686144e+11   \n",
       "2            1125 W 6th St           Urban         7.686144e+11   \n",
       "3  1225 Wilshire Boulevard           Urban         7.686144e+11   \n",
       "4       1127 Wilshire Blvd           Urban         7.686144e+11   \n",
       "\n",
       "   MUA_Designated_Date                   MUA_MSSA_Name_1  MUA_Updated_Time  \\\n",
       "0           2003-11-05  MSSA 78.2b (Pico Union/Westlake)      1.067990e+12   \n",
       "1           1994-05-11             Westlake Service Area      1.005782e+12   \n",
       "2           1994-05-11             Westlake Service Area      1.005782e+12   \n",
       "3           1994-05-11             Westlake Service Area      1.005782e+12   \n",
       "4           1994-05-11             Westlake Service Area      1.005782e+12   \n",
       "\n",
       "  MUA_Updated_Date MUA_Poverty MUA_Score  MUA_Pct_100Poverty  \n",
       "0       2003-11-05    157757.0      51.0                 0.0  \n",
       "1       2001-11-15         0.0      60.1                 0.0  \n",
       "2       2001-11-15         0.0      60.1                 0.0  \n",
       "3       2001-11-15         0.0      60.1                 0.0  \n",
       "4       2001-11-15         0.0      60.1                 0.0  \n",
       "\n",
       "[5 rows x 32 columns]"
      ]
     },
     "execution_count": 5,
     "metadata": {},
     "output_type": "execute_result"
    }
   ],
   "source": [
    "la_facility_mua.head()"
   ]
  },
  {
   "cell_type": "code",
   "execution_count": 9,
   "metadata": {},
   "outputs": [],
   "source": [
    "zip_score = {\n",
    "    'MUA_Score': ['mean'],\n",
    "}\n",
    "zip_score = la_facility_mua.groupby(['Zip Code']).agg(zip_score)\n",
    "zip_score.columns = ['ByZipCode_' + ('_'.join(col).strip()) for col in zip_score.columns.values]\n",
    "zip_score.reset_index(inplace=True)"
   ]
  },
  {
   "cell_type": "code",
   "execution_count": 10,
   "metadata": {},
   "outputs": [],
   "source": [
    "zip_score = zip_score.sort_values(by=['ByZipCode_MUA_Score_mean'], ascending=True)"
   ]
  },
  {
   "cell_type": "code",
   "execution_count": 11,
   "metadata": {},
   "outputs": [
    {
     "data": {
      "text/html": [
       "<div>\n",
       "<style scoped>\n",
       "    .dataframe tbody tr th:only-of-type {\n",
       "        vertical-align: middle;\n",
       "    }\n",
       "\n",
       "    .dataframe tbody tr th {\n",
       "        vertical-align: top;\n",
       "    }\n",
       "\n",
       "    .dataframe thead th {\n",
       "        text-align: right;\n",
       "    }\n",
       "</style>\n",
       "<table border=\"1\" class=\"dataframe\">\n",
       "  <thead>\n",
       "    <tr style=\"text-align: right;\">\n",
       "      <th></th>\n",
       "      <th>Zip Code</th>\n",
       "      <th>ByZipCode_MUA_Score_mean</th>\n",
       "    </tr>\n",
       "  </thead>\n",
       "  <tbody>\n",
       "    <tr>\n",
       "      <th>18</th>\n",
       "      <td>90044</td>\n",
       "      <td>48.350000</td>\n",
       "    </tr>\n",
       "    <tr>\n",
       "      <th>7</th>\n",
       "      <td>90013</td>\n",
       "      <td>50.200000</td>\n",
       "    </tr>\n",
       "    <tr>\n",
       "      <th>15</th>\n",
       "      <td>90037</td>\n",
       "      <td>50.857143</td>\n",
       "    </tr>\n",
       "    <tr>\n",
       "      <th>5</th>\n",
       "      <td>90011</td>\n",
       "      <td>50.914286</td>\n",
       "    </tr>\n",
       "    <tr>\n",
       "      <th>2</th>\n",
       "      <td>90006</td>\n",
       "      <td>51.000000</td>\n",
       "    </tr>\n",
       "  </tbody>\n",
       "</table>\n",
       "</div>"
      ],
      "text/plain": [
       "    Zip Code  ByZipCode_MUA_Score_mean\n",
       "18     90044                 48.350000\n",
       "7      90013                 50.200000\n",
       "15     90037                 50.857143\n",
       "5      90011                 50.914286\n",
       "2      90006                 51.000000"
      ]
     },
     "execution_count": 11,
     "metadata": {},
     "output_type": "execute_result"
    }
   ],
   "source": [
    "zip_score.head()"
   ]
  },
  {
   "cell_type": "code",
   "execution_count": 12,
   "metadata": {},
   "outputs": [],
   "source": [
    "la_facility_mua['Zip Class'] = la_facility_mua['Zip Code'].map({\n",
    "90044:9, 90013:9, 90037:9, 90011:9, 90006:9,\n",
    "90002:8, 90059:8, 90047:8, 90255:8, 90018:8,\n",
    "90007:7, 90221:7, 90003:7, 90015:7, 90010:7,\n",
    "90012:6, 91601:6, 90220:6, 90057:6, 91606:6,\n",
    "91767:5, 91768:5, 91766:5, 90043:5, 90302:5,\n",
    "90033:4, 90262:4, 91770:4, 91731:4, 90248:4,\n",
    "91205:3, 91101:3, 90026:3, 91605:3, 90017:3,\n",
    "90813:2, 91340:2, 90802:2, 90805:2, 90806:2,\n",
    "90020:1, 91331:1, 90042:1, 90031:1, 90250:1,\n",
    "91401:0, 91405:0, 90731:0, 91406:0, 90744:0, 91411:0})\n",
    "\n",
    "la_facility_mua['Zip Class'] = la_facility_mua['Zip Class'].astype('int32')"
   ]
  },
  {
   "cell_type": "code",
   "execution_count": 13,
   "metadata": {},
   "outputs": [
    {
     "data": {
      "text/plain": [
       "0    2094\n",
       "6    2067\n",
       "7    1242\n",
       "2    1230\n",
       "4    1013\n",
       "3     961\n",
       "9     613\n",
       "1     455\n",
       "5     453\n",
       "8     377\n",
       "Name: Zip Class, dtype: int64"
      ]
     },
     "execution_count": 13,
     "metadata": {},
     "output_type": "execute_result"
    }
   ],
   "source": [
    "la_facility_mua['Zip Class'].value_counts().sort_values(ascending=False)"
   ]
  },
  {
   "cell_type": "code",
   "execution_count": 14,
   "metadata": {},
   "outputs": [],
   "source": [
    "la_facility_mua.rename({'cat1': 'Category Service'}, axis=1, inplace=True)"
   ]
  },
  {
   "cell_type": "code",
   "execution_count": 15,
   "metadata": {},
   "outputs": [
    {
     "data": {
      "text/plain": [
       "Health and Mental Health    4858\n",
       "Social Services             4330\n",
       "Public Safety               1317\n",
       "Name: Category Service, dtype: int64"
      ]
     },
     "execution_count": 15,
     "metadata": {},
     "output_type": "execute_result"
    }
   ],
   "source": [
    "la_facility_mua['Category Service'].value_counts().sort_values(ascending=False)"
   ]
  },
  {
   "cell_type": "code",
   "execution_count": 16,
   "metadata": {},
   "outputs": [],
   "source": [
    "la_facility_mua['Category Service']=la_facility_mua['Category Service'].map({\n",
    "'Health and Mental Health':0,\n",
    "'Social Services':1,\n",
    "'Public Safety':2\n",
    "})\n",
    "la_facility_mua['Category Service']=la_facility_mua['Category Service'].astype('int32')"
   ]
  },
  {
   "cell_type": "code",
   "execution_count": 18,
   "metadata": {},
   "outputs": [],
   "source": [
    "la_facility_mua['facility_er_service'] = la_facility_mua['facility_er_service'].map({\n",
    "'Not Applicable':'Not Applicable',\n",
    "'None':'Not Applicable',\n",
    "'Emergency - Basic':'Emergency',\n",
    "'Emergency - Comprehensive':'Emergency',\n",
    "'Emergency - Standby':'Emergency'\n",
    "})"
   ]
  },
  {
   "cell_type": "code",
   "execution_count": 19,
   "metadata": {},
   "outputs": [],
   "source": [
    "la_facility_mua['MUA_Poverty']=la_facility_mua['MUA_Poverty'].map({\n",
    "157757.0:2,\n",
    "129447.0:1,\n",
    "0.0:0,\n",
    "})"
   ]
  },
  {
   "cell_type": "code",
   "execution_count": 24,
   "metadata": {},
   "outputs": [],
   "source": [
    "la_facility_mua['MUA_Designated_Date'] = pd.to_datetime(la_facility_mua['MUA_Designated_Date']) \n",
    "la_facility_mua['MUA_Updated_Date'] = pd.to_datetime(la_facility_mua['MUA_Updated_Date']) \n",
    "la_facility_mua['Date Difference'] = la_facility_mua['MUA_Updated_Date']-la_facility_mua['MUA_Designated_Date']"
   ]
  },
  {
   "cell_type": "code",
   "execution_count": 25,
   "metadata": {},
   "outputs": [],
   "source": [
    "def ddiff2days(ddiff):\n",
    "    if not pd.isnull(ddiff):\n",
    "        return pd.Timedelta.total_seconds(ddiff)/(24.*3600)\n",
    "    else:\n",
    "        return np.NaN"
   ]
  },
  {
   "cell_type": "code",
   "execution_count": 26,
   "metadata": {},
   "outputs": [],
   "source": [
    "la_facility_mua['Date Difference']=la_facility_mua['Date Difference'].apply(ddiff2days)\n",
    "la_facility_mua['Date Difference']=la_facility_mua['Date Difference'].astype('int32')"
   ]
  },
  {
   "cell_type": "code",
   "execution_count": 27,
   "metadata": {},
   "outputs": [],
   "source": [
    "la_facility_mua['design_year'] = (la_facility_mua['MUA_Designated_Date'].dt.year).astype('int32')\n",
    "la_facility_mua['design_month'] = (la_facility_mua['MUA_Designated_Date'].dt.month).astype('int32')\n",
    "la_facility_mua['design_week'] = (la_facility_mua['MUA_Designated_Date'].dt.week).astype('int32')\n",
    "la_facility_mua['design_dow'] = (la_facility_mua['MUA_Designated_Date'].dt.dayofweek).astype('int32')\n",
    "\n",
    "la_facility_mua['update_year'] = (la_facility_mua['MUA_Updated_Date'].dt.year).astype('int32')\n",
    "la_facility_mua['update_month'] = (la_facility_mua['MUA_Updated_Date'].dt.month).astype('int32')\n",
    "la_facility_mua['update_week'] = (la_facility_mua['MUA_Updated_Date'].dt.week).astype('int32')\n",
    "la_facility_mua['update_dow'] = (la_facility_mua['MUA_Updated_Date'].dt.dayofweek).astype('int32')"
   ]
  },
  {
   "cell_type": "code",
   "execution_count": 29,
   "metadata": {},
   "outputs": [],
   "source": [
    "la_facility_mua.drop(['MUA_Designated_Date', 'MUA_Updated_Date', 'Zip Code',                  \n",
    " ], axis=1, inplace=True)"
   ]
  },
  {
   "cell_type": "code",
   "execution_count": 30,
   "metadata": {},
   "outputs": [],
   "source": [
    "cols = [c for c in la_facility_mua.columns if la_facility_mua[c].dtypes=='object']\n",
    "for c in cols:\n",
    "    le = LabelEncoder()\n",
    "    la_facility_mua[c] = (le.fit_transform(la_facility_mua[c])).astype('int32')"
   ]
  },
  {
   "cell_type": "code",
   "execution_count": 31,
   "metadata": {},
   "outputs": [],
   "source": [
    "cat_cols=['city', 'Street']"
   ]
  },
  {
   "cell_type": "code",
   "execution_count": 32,
   "metadata": {},
   "outputs": [],
   "source": [
    "X = la_facility_mua.drop(labels=['Zip Class'], axis=1)\n",
    "y = la_facility_mua['Zip Class']\n",
    "\n",
    "from sklearn.model_selection import train_test_split\n",
    "X_train, X_cv, y_train, y_cv = train_test_split(X, y, test_size=0.25, random_state=tf.random.set_seed(42))"
   ]
  },
  {
   "cell_type": "code",
   "execution_count": 33,
   "metadata": {},
   "outputs": [
    {
     "name": "stdout",
     "output_type": "stream",
     "text": [
      "0:\tlearn: 0.6967504\ttest: 0.6967504\ttest1: 0.6924248\tbest: 0.6924248 (0)\ttotal: 207ms\tremaining: 5m 10s\n",
      "50:\tlearn: 0.9384362\ttest: 0.9465600\ttest1: 0.9429006\tbest: 0.9429006 (50)\ttotal: 6.02s\tremaining: 2m 51s\n",
      "100:\tlearn: 0.9744859\ttest: 0.9809596\ttest1: 0.9752569\tbest: 0.9771603 (95)\ttotal: 12.4s\tremaining: 2m 51s\n",
      "150:\tlearn: 0.9852755\ttest: 0.9899721\ttest1: 0.9843928\tbest: 0.9843928 (150)\ttotal: 19.4s\tremaining: 2m 53s\n",
      "200:\tlearn: 0.9893374\ttest: 0.9932724\ttest1: 0.9881995\tbest: 0.9881995 (188)\ttotal: 26.3s\tremaining: 2m 49s\n",
      "Stopped by overfitting detector  (33 iterations wait)\n",
      "\n",
      "bestTest = 0.9889607918\n",
      "bestIteration = 211\n",
      "\n",
      "Shrink model to first 212 iterations.\n"
     ]
    },
    {
     "data": {
      "text/plain": [
       "<catboost.core.CatBoostClassifier at 0x7fc656fc1a90>"
      ]
     },
     "execution_count": 33,
     "metadata": {},
     "output_type": "execute_result"
    }
   ],
   "source": [
    "from catboost import CatBoostClassifier\n",
    "clf = CatBoostClassifier(iterations=1500, \n",
    "                         learning_rate=0.03,\n",
    "                         loss_function='MultiClass', \n",
    "                         eval_metric='Accuracy', \n",
    "                         depth=6,\n",
    "                         random_seed=42, \n",
    "                         od_type='Iter', \n",
    "                         )\n",
    "clf.fit(X_train, y_train, verbose=50,\n",
    "        use_best_model=True,\n",
    "        cat_features=cat_cols,\n",
    "        eval_set=[(X_train, y_train),(X_cv, y_cv)],\n",
    "        early_stopping_rounds=33,\n",
    "        plot=False)"
   ]
  },
  {
   "cell_type": "code",
   "execution_count": 34,
   "metadata": {},
   "outputs": [
    {
     "name": "stdout",
     "output_type": "stream",
     "text": [
      "Accuracy: 0.9889607917776931\n"
     ]
    }
   ],
   "source": [
    "preds = clf.predict(X_cv)\n",
    "print('Accuracy:', accuracy_score(y_cv, preds))"
   ]
  },
  {
   "cell_type": "code",
   "execution_count": 35,
   "metadata": {},
   "outputs": [
    {
     "data": {
      "image/png": "[encoded data removed]",
      "text/plain": [
       "<Figure size 720x360 with 1 Axes>"
      ]
     },
     "metadata": {
      "needs_background": "light"
     },
     "output_type": "display_data"
    }
   ],
   "source": [
    "feature_imp = pd.DataFrame(sorted(zip(clf.feature_importances_, X.columns), reverse=True)[:15], \n",
    "                           columns=['Value','Feature'])\n",
    "plt.figure(figsize=(10,5))\n",
    "sns.barplot(x=\"Value\", y=\"Feature\", data=feature_imp.sort_values(by=\"Value\", ascending=False))\n",
    "plt.title('Catboost Features')\n",
    "plt.tight_layout()\n",
    "plt.show()"
   ]
  },
  {
   "cell_type": "code",
   "execution_count": 36,
   "metadata": {},
   "outputs": [
    {
     "name": "stdout",
     "output_type": "stream",
     "text": [
      "0:\tlearn: 0.6871145\ttest: 0.6933181\tbest: 0.6933181 (0)\ttotal: 140ms\tremaining: 3m 30s\n",
      "50:\tlearn: 0.9421979\ttest: 0.9434609\tbest: 0.9434609 (50)\ttotal: 6.34s\tremaining: 3m\n",
      "100:\tlearn: 0.9771533\ttest: 0.9760137\tbest: 0.9760137 (100)\ttotal: 12.6s\tremaining: 2m 54s\n",
      "150:\tlearn: 0.9837788\ttest: 0.9817247\tbest: 0.9817247 (147)\ttotal: 19.6s\tremaining: 2m 55s\n",
      "200:\tlearn: 0.9891478\ttest: 0.9851513\tbest: 0.9851513 (197)\ttotal: 26.5s\tremaining: 2m 51s\n",
      "250:\tlearn: 0.9925748\ttest: 0.9880069\tbest: 0.9880069 (245)\ttotal: 33.6s\tremaining: 2m 47s\n",
      "300:\tlearn: 0.9944026\ttest: 0.9960023\tbest: 0.9960023 (300)\ttotal: 41.2s\tremaining: 2m 43s\n",
      "Stopped by overfitting detector  (25 iterations wait)\n",
      "\n",
      "bestTest = 0.9960022844\n",
      "bestIteration = 300\n",
      "\n",
      "Shrink model to first 301 iterations.\n",
      "Accuracy:  0.9960022844089091\n",
      "0:\tlearn: 0.6909984\ttest: 0.6956025\tbest: 0.6956025 (0)\ttotal: 127ms\tremaining: 3m 10s\n",
      "50:\tlearn: 0.9517935\ttest: 0.9611650\tbest: 0.9611650 (50)\ttotal: 6.26s\tremaining: 2m 57s\n",
      "100:\tlearn: 0.9718986\ttest: 0.9822958\tbest: 0.9822958 (96)\ttotal: 12.6s\tremaining: 2m 54s\n",
      "150:\tlearn: 0.9817226\ttest: 0.9857224\tbest: 0.9862935 (143)\ttotal: 19.6s\tremaining: 2m 55s\n",
      "200:\tlearn: 0.9881197\ttest: 0.9925757\tbest: 0.9925757 (197)\ttotal: 26.8s\tremaining: 2m 53s\n",
      "Stopped by overfitting detector  (25 iterations wait)\n",
      "\n",
      "bestTest = 0.9954311822\n",
      "bestIteration = 212\n",
      "\n",
      "Shrink model to first 213 iterations.\n",
      "Accuracy:  0.9954311821816105\n",
      "0:\tlearn: 0.6318255\ttest: 0.6333524\tbest: 0.6333524 (0)\ttotal: 139ms\tremaining: 3m 27s\n",
      "50:\tlearn: 0.9495088\ttest: 0.9486008\tbest: 0.9486008 (50)\ttotal: 6.47s\tremaining: 3m 3s\n",
      "100:\tlearn: 0.9772675\ttest: 0.9817247\tbest: 0.9817247 (100)\ttotal: 12.6s\tremaining: 2m 54s\n",
      "Stopped by overfitting detector  (25 iterations wait)\n",
      "\n",
      "bestTest = 0.987435751\n",
      "bestIteration = 117\n",
      "\n",
      "Shrink model to first 118 iterations.\n",
      "Accuracy:  0.9874357509994289\n",
      "0:\tlearn: 0.6384510\ttest: 0.6110794\tbest: 0.6110794 (0)\ttotal: 166ms\tremaining: 4m 8s\n",
      "50:\tlearn: 0.9496230\ttest: 0.9491719\tbest: 0.9491719 (50)\ttotal: 6.8s\tremaining: 3m 13s\n",
      "100:\tlearn: 0.9788668\ttest: 0.9743004\tbest: 0.9743004 (98)\ttotal: 13.2s\tremaining: 3m 2s\n",
      "150:\tlearn: 0.9856066\ttest: 0.9805825\tbest: 0.9805825 (137)\ttotal: 20s\tremaining: 2m 59s\n",
      "Stopped by overfitting detector  (25 iterations wait)\n",
      "\n",
      "bestTest = 0.9805825243\n",
      "bestIteration = 137\n",
      "\n",
      "Shrink model to first 138 iterations.\n",
      "Accuracy:  0.9805825242718447\n",
      "0:\tlearn: 0.6486178\ttest: 0.6647630\tbest: 0.6647630 (0)\ttotal: 131ms\tremaining: 3m 16s\n",
      "50:\tlearn: 0.9427690\ttest: 0.9486008\tbest: 0.9486008 (50)\ttotal: 6.49s\tremaining: 3m 4s\n",
      "100:\tlearn: 0.9785241\ttest: 0.9880069\tbest: 0.9885780 (99)\ttotal: 12.7s\tremaining: 2m 56s\n",
      "150:\tlearn: 0.9861777\ttest: 0.9937179\tbest: 0.9937179 (142)\ttotal: 19.6s\tremaining: 2m 55s\n",
      "Stopped by overfitting detector  (25 iterations wait)\n",
      "\n",
      "bestTest = 0.9960022844\n",
      "bestIteration = 160\n",
      "\n",
      "Shrink model to first 161 iterations.\n",
      "Accuracy:  0.9960022844089091\n",
      "0:\tlearn: 0.6806396\ttest: 0.6868571\tbest: 0.6868571 (0)\ttotal: 139ms\tremaining: 3m 28s\n",
      "50:\tlearn: 0.9400343\ttest: 0.9462857\tbest: 0.9462857 (50)\ttotal: 6.45s\tremaining: 3m 3s\n",
      "100:\tlearn: 0.9779555\ttest: 0.9828571\tbest: 0.9828571 (96)\ttotal: 13s\tremaining: 3m\n",
      "150:\tlearn: 0.9851513\ttest: 0.9880000\tbest: 0.9880000 (141)\ttotal: 20.7s\tremaining: 3m 5s\n",
      "200:\tlearn: 0.9894917\ttest: 0.9914286\tbest: 0.9925714 (196)\ttotal: 27.9s\tremaining: 3m\n",
      "250:\tlearn: 0.9924615\ttest: 0.9965714\tbest: 0.9965714 (231)\ttotal: 35s\tremaining: 2m 54s\n",
      "Stopped by overfitting detector  (25 iterations wait)\n",
      "\n",
      "bestTest = 0.9965714286\n",
      "bestIteration = 231\n",
      "\n",
      "Shrink model to first 232 iterations.\n",
      "Accuracy:  0.9965714285714286\n"
     ]
    }
   ],
   "source": [
    "acc = []\n",
    "fold = KFold(n_splits=6, shuffle=True, random_state=42)\n",
    "\n",
    "for train_index, test_index in fold.split(X):\n",
    "    X_train, X_cv = X.loc[train_index], X.loc[test_index]\n",
    "    y_train, y_cv = y[train_index], y[test_index]\n",
    "    \n",
    "    clf = CatBoostClassifier(iterations=1500, \n",
    "                         learning_rate=0.04,\n",
    "                         loss_function='MultiClass', \n",
    "                         eval_metric='Accuracy', \n",
    "                         depth=6,\n",
    "                         random_seed=42, \n",
    "                         od_type='Iter', \n",
    "                         )\n",
    "    clf.fit(X_train, y_train,\n",
    "            use_best_model=True,\n",
    "            eval_set=[(X_cv, y_cv)], \n",
    "            verbose=50, early_stopping_rounds=25, \n",
    "            cat_features=cat_cols)\n",
    "\n",
    "    y_preds = clf.predict(X_cv)\n",
    "    print(\"Accuracy: \", accuracy_score(y_cv,y_preds))\n",
    "\n",
    "    acc.append(accuracy_score(y_cv,y_preds))"
   ]
  },
  {
   "cell_type": "code",
   "execution_count": 37,
   "metadata": {},
   "outputs": [
    {
     "data": {
      "text/plain": [
       "0.9920042424736885"
      ]
     },
     "execution_count": 37,
     "metadata": {},
     "output_type": "execute_result"
    }
   ],
   "source": [
    "np.mean(acc,0)"
   ]
  },
  {
   "cell_type": "code",
   "execution_count": null,
   "metadata": {},
   "outputs": [],
   "source": []
  },
  {
   "cell_type": "code",
   "execution_count": null,
   "metadata": {},
   "outputs": [],
   "source": []
  }
 ],
 "metadata": {
  "kernelspec": {
   "display_name": "Python 3",
   "language": "python",
   "name": "python3"
  },
  "language_info": {
   "codemirror_mode": {
    "name": "ipython",
    "version": 3
   },
   "file_extension": ".py",
   "mimetype": "text/x-python",
   "name": "python",
   "nbconvert_exporter": "python",
   "pygments_lexer": "ipython3",
   "version": "3.7.4"
  }
 },
 "nbformat": 4,
 "nbformat_minor": 4
}
