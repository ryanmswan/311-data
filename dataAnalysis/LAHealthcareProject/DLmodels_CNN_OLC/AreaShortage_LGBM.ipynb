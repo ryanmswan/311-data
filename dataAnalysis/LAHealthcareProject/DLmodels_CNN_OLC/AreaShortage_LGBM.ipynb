{
 "cells": [
  {
   "cell_type": "markdown",
   "metadata": {},
   "source": [
    "### Area of Medical Services Shortage Classification (LGBM Multi-Class)\n",
    "\n",
    "1. Data was first pre-processed and load the final version of la_facility_mua.csv here\n",
    "\n",
    "2. Since feature engineering has been done, a few touch-ups before training:\n",
    "\n",
    "a) **Feature Mapping,**\n",
    "\n",
    "b) **Dropping useless variables,**\n",
    "\n",
    "c) **Datetime conversion,**\n",
    "\n",
    "d) **Days Diff**\n",
    "\n",
    "3. We have 51-classes of Zip Codes.\n",
    "\n",
    "a) Group Zip Codes into **10** categories(0-9) based on **Severity of Shortage**\n",
    "\n",
    "b) **9** represents the **Highest Shortage** while **0** represents the **Lowest Shortage**\n",
    "\n",
    "c) Name the new variable as **'Zip Class'** which is our **Target** (what we will try to predict here)**\n",
    "\n",
    "4. Data was split into Train and Validation\n",
    "\n",
    "5. Model: **LGBMClassifier**\n",
    "\n",
    "6. 2 Methods:\n",
    "\n",
    "a) Method-1: Simple train-test-split\n",
    "\n",
    "b) Method-2: 6-StratifiedKFold"
   ]
  },
  {
   "cell_type": "code",
   "execution_count": 2,
   "metadata": {},
   "outputs": [],
   "source": [
    "import os\n",
    "os.environ['PYTHONHASHSEED']='0'"
   ]
  },
  {
   "cell_type": "code",
   "execution_count": 3,
   "metadata": {},
   "outputs": [
    {
     "name": "stderr",
     "output_type": "stream",
     "text": [
      "Using TensorFlow backend.\n"
     ]
    }
   ],
   "source": [
    "import pandas as pd\n",
    "import numpy as np\n",
    "import random as rn\n",
    "# Deep Learning Libraries\n",
    "from tensorflow import keras\n",
    "from tensorflow.keras import Sequential\n",
    "from tensorflow.keras.layers import Flatten,Dense,Dropout,BatchNormalization\n",
    "from tensorflow.keras.layers import Conv1D,MaxPool1D\n",
    "from tensorflow.keras.optimizers import Adam\n",
    "from tensorflow.keras.callbacks import EarlyStopping, ReduceLROnPlateau, ModelCheckpoint\n",
    "from tensorflow.keras import callbacks\n",
    "from tensorflow.keras.models import load_model\n",
    "import tensorflow as tf\n",
    "np.random.seed(37)\n",
    "rn.seed(42)\n",
    "tf.random.set_seed(42)\n",
    "from keras import backend as K"
   ]
  },
  {
   "cell_type": "code",
   "execution_count": 4,
   "metadata": {},
   "outputs": [],
   "source": [
    "import pandas as pd\n",
    "import numpy as np\n",
    "import seaborn as sns\n",
    "import re\n",
    "from datetime import datetime\n",
    "import matplotlib.pyplot as plt\n",
    "%matplotlib inline\n",
    "import matplotlib.gridspec as gridspec\n",
    "from math import sqrt \n",
    "from sklearn.metrics import log_loss\n",
    "import lightgbm as lgb\n",
    "from sklearn.preprocessing import StandardScaler\n",
    "from sklearn.metrics import auc,roc_auc_score\n",
    "from catboost import CatBoostClassifier,Pool, cv\n",
    "from sklearn.preprocessing import LabelEncoder\n",
    "from lightgbm import LGBMClassifier\n",
    "from sklearn.metrics import roc_curve, auc, classification_report, confusion_matrix, accuracy_score\n",
    "from sklearn.model_selection import train_test_split, cross_val_score, KFold, StratifiedKFold\n",
    "\n",
    "la_facility_mua = pd.read_csv('../input/la-final-data-2/la_facility_mua.csv')"
   ]
  },
  {
   "cell_type": "code",
   "execution_count": 5,
   "metadata": {},
   "outputs": [
    {
     "data": {
      "text/html": [
       "<div>\n",
       "<style scoped>\n",
       "    .dataframe tbody tr th:only-of-type {\n",
       "        vertical-align: middle;\n",
       "    }\n",
       "\n",
       "    .dataframe tbody tr th {\n",
       "        vertical-align: top;\n",
       "    }\n",
       "\n",
       "    .dataframe thead th {\n",
       "        text-align: right;\n",
       "    }\n",
       "</style>\n",
       "<table border=\"1\" class=\"dataframe\">\n",
       "  <thead>\n",
       "    <tr style=\"text-align: right;\">\n",
       "      <th></th>\n",
       "      <th>source</th>\n",
       "      <th>cat1</th>\n",
       "      <th>cat2</th>\n",
       "      <th>org_name</th>\n",
       "      <th>Name</th>\n",
       "      <th>addrln1</th>\n",
       "      <th>city</th>\n",
       "      <th>state</th>\n",
       "      <th>post_id</th>\n",
       "      <th>description</th>\n",
       "      <th>...</th>\n",
       "      <th>facility_address_1</th>\n",
       "      <th>MUA_RuralStatus</th>\n",
       "      <th>MUA_Designated_Time</th>\n",
       "      <th>MUA_Designated_Date</th>\n",
       "      <th>MUA_MSSA_Name_1</th>\n",
       "      <th>MUA_Updated_Time</th>\n",
       "      <th>MUA_Updated_Date</th>\n",
       "      <th>MUA_Poverty</th>\n",
       "      <th>MUA_Score</th>\n",
       "      <th>MUA_Pct_100Poverty</th>\n",
       "    </tr>\n",
       "  </thead>\n",
       "  <tbody>\n",
       "    <tr>\n",
       "      <th>0</th>\n",
       "      <td>211</td>\n",
       "      <td>Social Services</td>\n",
       "      <td>Children and Family Services</td>\n",
       "      <td>neweconomicsforwomen.org</td>\n",
       "      <td>New Economics For Women - Familysource Center ...</td>\n",
       "      <td>501 S. Bixel St.</td>\n",
       "      <td>Los Angeles</td>\n",
       "      <td>CA</td>\n",
       "      <td>56652</td>\n",
       "      <td>The agency is an economic development organiza...</td>\n",
       "      <td>...</td>\n",
       "      <td>415 South Union Avenue</td>\n",
       "      <td>Urban</td>\n",
       "      <td>1.067990e+12</td>\n",
       "      <td>2003-11-05</td>\n",
       "      <td>MSSA 78.2b (Pico Union/Westlake)</td>\n",
       "      <td>1.067990e+12</td>\n",
       "      <td>2003-11-05</td>\n",
       "      <td>157757.0</td>\n",
       "      <td>51.0</td>\n",
       "      <td>0.0</td>\n",
       "    </tr>\n",
       "    <tr>\n",
       "      <th>1</th>\n",
       "      <td>211</td>\n",
       "      <td>Social Services</td>\n",
       "      <td>Children and Family Services</td>\n",
       "      <td>neweconomicsforwomen.org</td>\n",
       "      <td>New Economics For Women - Familysource Center ...</td>\n",
       "      <td>501 S. Bixel St.</td>\n",
       "      <td>Los Angeles</td>\n",
       "      <td>CA</td>\n",
       "      <td>56652</td>\n",
       "      <td>The agency is an economic development organiza...</td>\n",
       "      <td>...</td>\n",
       "      <td>600 St Paul Ave</td>\n",
       "      <td>Urban</td>\n",
       "      <td>7.686144e+11</td>\n",
       "      <td>1994-05-11</td>\n",
       "      <td>Westlake Service Area</td>\n",
       "      <td>1.005782e+12</td>\n",
       "      <td>2001-11-15</td>\n",
       "      <td>0.0</td>\n",
       "      <td>60.1</td>\n",
       "      <td>0.0</td>\n",
       "    </tr>\n",
       "    <tr>\n",
       "      <th>2</th>\n",
       "      <td>211</td>\n",
       "      <td>Social Services</td>\n",
       "      <td>Children and Family Services</td>\n",
       "      <td>neweconomicsforwomen.org</td>\n",
       "      <td>New Economics For Women - Familysource Center ...</td>\n",
       "      <td>501 S. Bixel St.</td>\n",
       "      <td>Los Angeles</td>\n",
       "      <td>CA</td>\n",
       "      <td>56652</td>\n",
       "      <td>The agency is an economic development organiza...</td>\n",
       "      <td>...</td>\n",
       "      <td>1125 W 6th St</td>\n",
       "      <td>Urban</td>\n",
       "      <td>7.686144e+11</td>\n",
       "      <td>1994-05-11</td>\n",
       "      <td>Westlake Service Area</td>\n",
       "      <td>1.005782e+12</td>\n",
       "      <td>2001-11-15</td>\n",
       "      <td>0.0</td>\n",
       "      <td>60.1</td>\n",
       "      <td>0.0</td>\n",
       "    </tr>\n",
       "    <tr>\n",
       "      <th>3</th>\n",
       "      <td>211</td>\n",
       "      <td>Social Services</td>\n",
       "      <td>Children and Family Services</td>\n",
       "      <td>neweconomicsforwomen.org</td>\n",
       "      <td>New Economics For Women - Familysource Center ...</td>\n",
       "      <td>501 S. Bixel St.</td>\n",
       "      <td>Los Angeles</td>\n",
       "      <td>CA</td>\n",
       "      <td>56652</td>\n",
       "      <td>The agency is an economic development organiza...</td>\n",
       "      <td>...</td>\n",
       "      <td>1225 Wilshire Boulevard</td>\n",
       "      <td>Urban</td>\n",
       "      <td>7.686144e+11</td>\n",
       "      <td>1994-05-11</td>\n",
       "      <td>Westlake Service Area</td>\n",
       "      <td>1.005782e+12</td>\n",
       "      <td>2001-11-15</td>\n",
       "      <td>0.0</td>\n",
       "      <td>60.1</td>\n",
       "      <td>0.0</td>\n",
       "    </tr>\n",
       "    <tr>\n",
       "      <th>4</th>\n",
       "      <td>211</td>\n",
       "      <td>Social Services</td>\n",
       "      <td>Children and Family Services</td>\n",
       "      <td>neweconomicsforwomen.org</td>\n",
       "      <td>New Economics For Women - Familysource Center ...</td>\n",
       "      <td>501 S. Bixel St.</td>\n",
       "      <td>Los Angeles</td>\n",
       "      <td>CA</td>\n",
       "      <td>56652</td>\n",
       "      <td>The agency is an economic development organiza...</td>\n",
       "      <td>...</td>\n",
       "      <td>1127 Wilshire Blvd</td>\n",
       "      <td>Urban</td>\n",
       "      <td>7.686144e+11</td>\n",
       "      <td>1994-05-11</td>\n",
       "      <td>Westlake Service Area</td>\n",
       "      <td>1.005782e+12</td>\n",
       "      <td>2001-11-15</td>\n",
       "      <td>0.0</td>\n",
       "      <td>60.1</td>\n",
       "      <td>0.0</td>\n",
       "    </tr>\n",
       "  </tbody>\n",
       "</table>\n",
       "<p>5 rows × 32 columns</p>\n",
       "</div>"
      ],
      "text/plain": [
       "  source             cat1                          cat2  \\\n",
       "0    211  Social Services  Children and Family Services   \n",
       "1    211  Social Services  Children and Family Services   \n",
       "2    211  Social Services  Children and Family Services   \n",
       "3    211  Social Services  Children and Family Services   \n",
       "4    211  Social Services  Children and Family Services   \n",
       "\n",
       "                   org_name  \\\n",
       "0  neweconomicsforwomen.org   \n",
       "1  neweconomicsforwomen.org   \n",
       "2  neweconomicsforwomen.org   \n",
       "3  neweconomicsforwomen.org   \n",
       "4  neweconomicsforwomen.org   \n",
       "\n",
       "                                                Name           addrln1  \\\n",
       "0  New Economics For Women - Familysource Center ...  501 S. Bixel St.   \n",
       "1  New Economics For Women - Familysource Center ...  501 S. Bixel St.   \n",
       "2  New Economics For Women - Familysource Center ...  501 S. Bixel St.   \n",
       "3  New Economics For Women - Familysource Center ...  501 S. Bixel St.   \n",
       "4  New Economics For Women - Familysource Center ...  501 S. Bixel St.   \n",
       "\n",
       "          city state  post_id  \\\n",
       "0  Los Angeles    CA    56652   \n",
       "1  Los Angeles    CA    56652   \n",
       "2  Los Angeles    CA    56652   \n",
       "3  Los Angeles    CA    56652   \n",
       "4  Los Angeles    CA    56652   \n",
       "\n",
       "                                         description  ...  \\\n",
       "0  The agency is an economic development organiza...  ...   \n",
       "1  The agency is an economic development organiza...  ...   \n",
       "2  The agency is an economic development organiza...  ...   \n",
       "3  The agency is an economic development organiza...  ...   \n",
       "4  The agency is an economic development organiza...  ...   \n",
       "\n",
       "        facility_address_1 MUA_RuralStatus  MUA_Designated_Time  \\\n",
       "0   415 South Union Avenue           Urban         1.067990e+12   \n",
       "1          600 St Paul Ave           Urban         7.686144e+11   \n",
       "2            1125 W 6th St           Urban         7.686144e+11   \n",
       "3  1225 Wilshire Boulevard           Urban         7.686144e+11   \n",
       "4       1127 Wilshire Blvd           Urban         7.686144e+11   \n",
       "\n",
       "   MUA_Designated_Date                   MUA_MSSA_Name_1  MUA_Updated_Time  \\\n",
       "0           2003-11-05  MSSA 78.2b (Pico Union/Westlake)      1.067990e+12   \n",
       "1           1994-05-11             Westlake Service Area      1.005782e+12   \n",
       "2           1994-05-11             Westlake Service Area      1.005782e+12   \n",
       "3           1994-05-11             Westlake Service Area      1.005782e+12   \n",
       "4           1994-05-11             Westlake Service Area      1.005782e+12   \n",
       "\n",
       "  MUA_Updated_Date MUA_Poverty MUA_Score  MUA_Pct_100Poverty  \n",
       "0       2003-11-05    157757.0      51.0                 0.0  \n",
       "1       2001-11-15         0.0      60.1                 0.0  \n",
       "2       2001-11-15         0.0      60.1                 0.0  \n",
       "3       2001-11-15         0.0      60.1                 0.0  \n",
       "4       2001-11-15         0.0      60.1                 0.0  \n",
       "\n",
       "[5 rows x 32 columns]"
      ]
     },
     "execution_count": 5,
     "metadata": {},
     "output_type": "execute_result"
    }
   ],
   "source": [
    "la_facility_mua.head()"
   ]
  },
  {
   "cell_type": "code",
   "execution_count": 9,
   "metadata": {},
   "outputs": [],
   "source": [
    "zip_score = {\n",
    "    'MUA_Score': ['mean'],\n",
    "}\n",
    "zip_score = la_facility_mua.groupby(['Zip Code']).agg(zip_score)\n",
    "zip_score.columns = ['ByZipCode_' + ('_'.join(col).strip()) for col in zip_score.columns.values]\n",
    "zip_score.reset_index(inplace=True)"
   ]
  },
  {
   "cell_type": "code",
   "execution_count": 10,
   "metadata": {},
   "outputs": [],
   "source": [
    "zip_score = zip_score.sort_values(by=['ByZipCode_MUA_Score_mean'], ascending=True)"
   ]
  },
  {
   "cell_type": "code",
   "execution_count": 11,
   "metadata": {},
   "outputs": [
    {
     "data": {
      "text/html": [
       "<div>\n",
       "<style scoped>\n",
       "    .dataframe tbody tr th:only-of-type {\n",
       "        vertical-align: middle;\n",
       "    }\n",
       "\n",
       "    .dataframe tbody tr th {\n",
       "        vertical-align: top;\n",
       "    }\n",
       "\n",
       "    .dataframe thead th {\n",
       "        text-align: right;\n",
       "    }\n",
       "</style>\n",
       "<table border=\"1\" class=\"dataframe\">\n",
       "  <thead>\n",
       "    <tr style=\"text-align: right;\">\n",
       "      <th></th>\n",
       "      <th>Zip Code</th>\n",
       "      <th>ByZipCode_MUA_Score_mean</th>\n",
       "    </tr>\n",
       "  </thead>\n",
       "  <tbody>\n",
       "    <tr>\n",
       "      <th>18</th>\n",
       "      <td>90044</td>\n",
       "      <td>48.350000</td>\n",
       "    </tr>\n",
       "    <tr>\n",
       "      <th>7</th>\n",
       "      <td>90013</td>\n",
       "      <td>50.200000</td>\n",
       "    </tr>\n",
       "    <tr>\n",
       "      <th>15</th>\n",
       "      <td>90037</td>\n",
       "      <td>50.857143</td>\n",
       "    </tr>\n",
       "    <tr>\n",
       "      <th>5</th>\n",
       "      <td>90011</td>\n",
       "      <td>50.914286</td>\n",
       "    </tr>\n",
       "    <tr>\n",
       "      <th>2</th>\n",
       "      <td>90006</td>\n",
       "      <td>51.000000</td>\n",
       "    </tr>\n",
       "  </tbody>\n",
       "</table>\n",
       "</div>"
      ],
      "text/plain": [
       "    Zip Code  ByZipCode_MUA_Score_mean\n",
       "18     90044                 48.350000\n",
       "7      90013                 50.200000\n",
       "15     90037                 50.857143\n",
       "5      90011                 50.914286\n",
       "2      90006                 51.000000"
      ]
     },
     "execution_count": 11,
     "metadata": {},
     "output_type": "execute_result"
    }
   ],
   "source": [
    "zip_score.head()"
   ]
  },
  {
   "cell_type": "code",
   "execution_count": 12,
   "metadata": {},
   "outputs": [],
   "source": [
    "la_facility_mua['Zip Class'] = la_facility_mua['Zip Code'].map({\n",
    "90044:9, 90013:9, 90037:9, 90011:9, 90006:9,\n",
    "90002:8, 90059:8, 90047:8, 90255:8, 90018:8,\n",
    "90007:7, 90221:7, 90003:7, 90015:7, 90010:7,\n",
    "90012:6, 91601:6, 90220:6, 90057:6, 91606:6,\n",
    "91767:5, 91768:5, 91766:5, 90043:5, 90302:5,\n",
    "90033:4, 90262:4, 91770:4, 91731:4, 90248:4,\n",
    "91205:3, 91101:3, 90026:3, 91605:3, 90017:3,\n",
    "90813:2, 91340:2, 90802:2, 90805:2, 90806:2,\n",
    "90020:1, 91331:1, 90042:1, 90031:1, 90250:1,\n",
    "91401:0, 91405:0, 90731:0, 91406:0, 90744:0, 91411:0})\n",
    "\n",
    "la_facility_mua['Zip Class'] = la_facility_mua['Zip Class'].astype('int32')"
   ]
  },
  {
   "cell_type": "code",
   "execution_count": 13,
   "metadata": {},
   "outputs": [
    {
     "data": {
      "text/plain": [
       "0    2094\n",
       "6    2067\n",
       "7    1242\n",
       "2    1230\n",
       "4    1013\n",
       "3     961\n",
       "9     613\n",
       "1     455\n",
       "5     453\n",
       "8     377\n",
       "Name: Zip Class, dtype: int64"
      ]
     },
     "execution_count": 13,
     "metadata": {},
     "output_type": "execute_result"
    }
   ],
   "source": [
    "la_facility_mua['Zip Class'].value_counts().sort_values(ascending=False)"
   ]
  },
  {
   "cell_type": "code",
   "execution_count": 14,
   "metadata": {},
   "outputs": [],
   "source": [
    "la_facility_mua.rename({'cat1': 'Category Service'}, axis=1, inplace=True)"
   ]
  },
  {
   "cell_type": "code",
   "execution_count": 15,
   "metadata": {},
   "outputs": [
    {
     "data": {
      "text/plain": [
       "Health and Mental Health    4858\n",
       "Social Services             4330\n",
       "Public Safety               1317\n",
       "Name: Category Service, dtype: int64"
      ]
     },
     "execution_count": 15,
     "metadata": {},
     "output_type": "execute_result"
    }
   ],
   "source": [
    "la_facility_mua['Category Service'].value_counts().sort_values(ascending=False)"
   ]
  },
  {
   "cell_type": "code",
   "execution_count": 16,
   "metadata": {},
   "outputs": [],
   "source": [
    "la_facility_mua['Category Service']=la_facility_mua['Category Service'].map({\n",
    "'Health and Mental Health':0,\n",
    "'Social Services':1,\n",
    "'Public Safety':2\n",
    "})\n",
    "la_facility_mua['Category Service']=la_facility_mua['Category Service'].astype('int32')"
   ]
  },
  {
   "cell_type": "code",
   "execution_count": 18,
   "metadata": {},
   "outputs": [],
   "source": [
    "la_facility_mua['facility_er_service'] = la_facility_mua['facility_er_service'].map({\n",
    "'Not Applicable':'Not Applicable',\n",
    "'None':'Not Applicable',\n",
    "'Emergency - Basic':'Emergency',\n",
    "'Emergency - Comprehensive':'Emergency',\n",
    "'Emergency - Standby':'Emergency'\n",
    "})"
   ]
  },
  {
   "cell_type": "code",
   "execution_count": 19,
   "metadata": {},
   "outputs": [],
   "source": [
    "la_facility_mua['MUA_Poverty']=la_facility_mua['MUA_Poverty'].map({\n",
    "157757.0:2,\n",
    "129447.0:1,\n",
    "0.0:0,\n",
    "})"
   ]
  },
  {
   "cell_type": "code",
   "execution_count": 24,
   "metadata": {},
   "outputs": [],
   "source": [
    "la_facility_mua['MUA_Designated_Date'] = pd.to_datetime(la_facility_mua['MUA_Designated_Date']) \n",
    "la_facility_mua['MUA_Updated_Date'] = pd.to_datetime(la_facility_mua['MUA_Updated_Date']) \n",
    "la_facility_mua['Date Difference'] = la_facility_mua['MUA_Updated_Date']-la_facility_mua['MUA_Designated_Date']"
   ]
  },
  {
   "cell_type": "code",
   "execution_count": 25,
   "metadata": {},
   "outputs": [],
   "source": [
    "def ddiff2days(ddiff):\n",
    "    if not pd.isnull(ddiff):\n",
    "        return pd.Timedelta.total_seconds(ddiff)/(24.*3600)\n",
    "    else:\n",
    "        return np.NaN"
   ]
  },
  {
   "cell_type": "code",
   "execution_count": 26,
   "metadata": {},
   "outputs": [],
   "source": [
    "la_facility_mua['Date Difference']=la_facility_mua['Date Difference'].apply(ddiff2days)\n",
    "la_facility_mua['Date Difference']=la_facility_mua['Date Difference'].astype('int32')"
   ]
  },
  {
   "cell_type": "code",
   "execution_count": 27,
   "metadata": {},
   "outputs": [],
   "source": [
    "la_facility_mua['design_year'] = (la_facility_mua['MUA_Designated_Date'].dt.year).astype('int32')\n",
    "la_facility_mua['design_month'] = (la_facility_mua['MUA_Designated_Date'].dt.month).astype('int32')\n",
    "la_facility_mua['design_week'] = (la_facility_mua['MUA_Designated_Date'].dt.week).astype('int32')\n",
    "la_facility_mua['design_dow'] = (la_facility_mua['MUA_Designated_Date'].dt.dayofweek).astype('int32')\n",
    "\n",
    "la_facility_mua['update_year'] = (la_facility_mua['MUA_Updated_Date'].dt.year).astype('int32')\n",
    "la_facility_mua['update_month'] = (la_facility_mua['MUA_Updated_Date'].dt.month).astype('int32')\n",
    "la_facility_mua['update_week'] = (la_facility_mua['MUA_Updated_Date'].dt.week).astype('int32')\n",
    "la_facility_mua['update_dow'] = (la_facility_mua['MUA_Updated_Date'].dt.dayofweek).astype('int32')"
   ]
  },
  {
   "cell_type": "code",
   "execution_count": 29,
   "metadata": {},
   "outputs": [],
   "source": [
    "la_facility_mua.drop(['MUA_Designated_Date', 'MUA_Updated_Date', 'Zip Code',                  \n",
    " ], axis=1, inplace=True)"
   ]
  },
  {
   "cell_type": "code",
   "execution_count": 30,
   "metadata": {},
   "outputs": [],
   "source": [
    "cols = [c for c in la_facility_mua.columns if la_facility_mua[c].dtypes=='object']\n",
    "for c in cols:\n",
    "    le = LabelEncoder()\n",
    "    la_facility_mua[c] = (le.fit_transform(la_facility_mua[c])).astype('int32')"
   ]
  },
  {
   "cell_type": "code",
   "execution_count": 32,
   "metadata": {},
   "outputs": [],
   "source": [
    "X = la_facility_mua.drop(labels=['Zip Class'], axis=1)\n",
    "y = la_facility_mua['Zip Class']\n",
    "\n",
    "from sklearn.model_selection import train_test_split\n",
    "X_train, X_cv, y_train, y_cv = train_test_split(X, y, test_size=0.25, random_state=tf.random.set_seed(42))"
   ]
  },
  {
   "cell_type": "code",
   "execution_count": 33,
   "metadata": {},
   "outputs": [
    {
     "name": "stderr",
     "output_type": "stream",
     "text": [
      "/opt/conda/lib/python3.7/site-packages/lightgbm/engine.py:148: UserWarning: Found `num_iterations` in params. Will use it instead of argument\n",
      "  warnings.warn(\"Found `{}` in params. Will use it instead of argument\".format(alias))\n"
     ]
    },
    {
     "name": "stdout",
     "output_type": "stream",
     "text": [
      "Training until validation scores don't improve for 20 rounds\n",
      "[50]\ttraining's multi_logloss: 1.24952\tvalid_1's multi_logloss: 1.26749\n",
      "[100]\ttraining's multi_logloss: 0.847686\tvalid_1's multi_logloss: 0.865842\n",
      "[150]\ttraining's multi_logloss: 0.608635\tvalid_1's multi_logloss: 0.626966\n",
      "[200]\ttraining's multi_logloss: 0.450985\tvalid_1's multi_logloss: 0.468911\n",
      "[250]\ttraining's multi_logloss: 0.341897\tvalid_1's multi_logloss: 0.35929\n",
      "[300]\ttraining's multi_logloss: 0.267301\tvalid_1's multi_logloss: 0.284495\n",
      "[350]\ttraining's multi_logloss: 0.211229\tvalid_1's multi_logloss: 0.227871\n",
      "[400]\ttraining's multi_logloss: 0.171748\tvalid_1's multi_logloss: 0.187964\n",
      "[450]\ttraining's multi_logloss: 0.140131\tvalid_1's multi_logloss: 0.15572\n",
      "[500]\ttraining's multi_logloss: 0.115497\tvalid_1's multi_logloss: 0.130558\n",
      "[550]\ttraining's multi_logloss: 0.0959875\tvalid_1's multi_logloss: 0.110413\n",
      "[600]\ttraining's multi_logloss: 0.0803257\tvalid_1's multi_logloss: 0.0939398\n",
      "[650]\ttraining's multi_logloss: 0.0678863\tvalid_1's multi_logloss: 0.0807377\n",
      "[700]\ttraining's multi_logloss: 0.0575101\tvalid_1's multi_logloss: 0.0697535\n",
      "[750]\ttraining's multi_logloss: 0.0489748\tvalid_1's multi_logloss: 0.0607111\n",
      "[800]\ttraining's multi_logloss: 0.0418683\tvalid_1's multi_logloss: 0.0529324\n",
      "[850]\ttraining's multi_logloss: 0.0362779\tvalid_1's multi_logloss: 0.0468341\n",
      "[900]\ttraining's multi_logloss: 0.0312385\tvalid_1's multi_logloss: 0.0412703\n",
      "[950]\ttraining's multi_logloss: 0.0270943\tvalid_1's multi_logloss: 0.0365986\n",
      "[1000]\ttraining's multi_logloss: 0.0236263\tvalid_1's multi_logloss: 0.0325953\n",
      "[1050]\ttraining's multi_logloss: 0.0206568\tvalid_1's multi_logloss: 0.029193\n",
      "[1100]\ttraining's multi_logloss: 0.0180685\tvalid_1's multi_logloss: 0.0262058\n",
      "[1150]\ttraining's multi_logloss: 0.0157994\tvalid_1's multi_logloss: 0.0235425\n",
      "[1200]\ttraining's multi_logloss: 0.0138259\tvalid_1's multi_logloss: 0.0212521\n",
      "[1250]\ttraining's multi_logloss: 0.0122122\tvalid_1's multi_logloss: 0.0192594\n",
      "[1300]\ttraining's multi_logloss: 0.0107483\tvalid_1's multi_logloss: 0.0174855\n",
      "[1350]\ttraining's multi_logloss: 0.0094346\tvalid_1's multi_logloss: 0.0157087\n",
      "[1400]\ttraining's multi_logloss: 0.00830987\tvalid_1's multi_logloss: 0.0143614\n",
      "[1450]\ttraining's multi_logloss: 0.00743046\tvalid_1's multi_logloss: 0.013173\n",
      "[1500]\ttraining's multi_logloss: 0.00657455\tvalid_1's multi_logloss: 0.0120749\n",
      "Did not meet early stopping. Best iteration is:\n",
      "[1500]\ttraining's multi_logloss: 0.00657455\tvalid_1's multi_logloss: 0.0120749\n"
     ]
    }
   ],
   "source": [
    "train_data = lgb.Dataset(X_train, label=y_train)\n",
    "test_data = lgb.Dataset(X_cv, label=y_cv)\n",
    "\n",
    "param = {'num_iterations': 1500,\n",
    "         'num_leaves': 31,\n",
    "         'max_depth': -1,\n",
    "         'learning_rate': 0.01, \n",
    "         'num_class': 10,\n",
    "         'objective': 'multiclass',\n",
    "         'metric': 'multi_logloss',\n",
    "         'min_data_per_group': 110,\n",
    "         'feature_fraction': 0.6,\n",
    "         'bagging_fraction':0.8,\n",
    "         'bagging_freq': 5,\n",
    "         'boosting': 'gbdt',\n",
    "         'is_unbalance':True,\n",
    "         'seed':42\n",
    "         }\n",
    "\n",
    "clf = lgb.train(params=param, \n",
    "                early_stopping_rounds=20,\n",
    "                verbose_eval=50,\n",
    "                train_set=train_data,\n",
    "                valid_sets=[train_data, test_data])\n",
    "\n",
    "y_pred = clf.predict(X_cv)"
   ]
  },
  {
   "cell_type": "code",
   "execution_count": 34,
   "metadata": {},
   "outputs": [
    {
     "data": {
      "text/plain": [
       "0.012074860534390674"
      ]
     },
     "execution_count": 34,
     "metadata": {},
     "output_type": "execute_result"
    }
   ],
   "source": [
    "log_loss(y_cv, y_pred)"
   ]
  },
  {
   "cell_type": "code",
   "execution_count": 35,
   "metadata": {},
   "outputs": [
    {
     "data": {
      "image/png": "[encoded data removed]",
      "text/plain": [
       "<Figure size 720x576 with 1 Axes>"
      ]
     },
     "metadata": {
      "needs_background": "light"
     },
     "output_type": "display_data"
    }
   ],
   "source": [
    "feature_imp = pd.DataFrame(sorted(zip(clf.feature_importance(), X.columns), reverse=True)[:15],\n",
    "                           columns=['Value','Feature'])\n",
    "plt.figure(figsize=(10,8))\n",
    "sns.barplot(x=\"Value\", y=\"Feature\", data=feature_imp.sort_values(by=\"Value\", ascending=False))\n",
    "plt.title('LightGBM Features')\n",
    "plt.tight_layout()\n",
    "plt.show()"
   ]
  },
  {
   "cell_type": "code",
   "execution_count": 36,
   "metadata": {},
   "outputs": [
    {
     "name": "stderr",
     "output_type": "stream",
     "text": [
      "/opt/conda/lib/python3.7/site-packages/lightgbm/engine.py:148: UserWarning: Found `num_iterations` in params. Will use it instead of argument\n",
      "  warnings.warn(\"Found `{}` in params. Will use it instead of argument\".format(alias))\n"
     ]
    },
    {
     "name": "stdout",
     "output_type": "stream",
     "text": [
      "Training until validation scores don't improve for 20 rounds\n",
      "[50]\ttraining's multi_logloss: 1.24904\tvalid_1's multi_logloss: 1.24571\n",
      "[100]\ttraining's multi_logloss: 0.845442\tvalid_1's multi_logloss: 0.843148\n",
      "[150]\ttraining's multi_logloss: 0.606248\tvalid_1's multi_logloss: 0.605491\n",
      "[200]\ttraining's multi_logloss: 0.450067\tvalid_1's multi_logloss: 0.450753\n",
      "[250]\ttraining's multi_logloss: 0.341196\tvalid_1's multi_logloss: 0.343567\n",
      "[300]\ttraining's multi_logloss: 0.266625\tvalid_1's multi_logloss: 0.269993\n",
      "[350]\ttraining's multi_logloss: 0.211112\tvalid_1's multi_logloss: 0.214801\n",
      "[400]\ttraining's multi_logloss: 0.171363\tvalid_1's multi_logloss: 0.175564\n",
      "[450]\ttraining's multi_logloss: 0.139519\tvalid_1's multi_logloss: 0.144257\n",
      "[500]\ttraining's multi_logloss: 0.115075\tvalid_1's multi_logloss: 0.119994\n",
      "[550]\ttraining's multi_logloss: 0.0957829\tvalid_1's multi_logloss: 0.100491\n",
      "[600]\ttraining's multi_logloss: 0.0801282\tvalid_1's multi_logloss: 0.084472\n",
      "[650]\ttraining's multi_logloss: 0.0679239\tvalid_1's multi_logloss: 0.0721337\n",
      "[700]\ttraining's multi_logloss: 0.0576422\tvalid_1's multi_logloss: 0.0616139\n",
      "[750]\ttraining's multi_logloss: 0.0491459\tvalid_1's multi_logloss: 0.0525705\n",
      "[800]\ttraining's multi_logloss: 0.0418887\tvalid_1's multi_logloss: 0.045091\n",
      "[850]\ttraining's multi_logloss: 0.0363711\tvalid_1's multi_logloss: 0.0393725\n",
      "[900]\ttraining's multi_logloss: 0.0312736\tvalid_1's multi_logloss: 0.0340713\n",
      "[950]\ttraining's multi_logloss: 0.0271407\tvalid_1's multi_logloss: 0.029722\n",
      "[1000]\ttraining's multi_logloss: 0.02366\tvalid_1's multi_logloss: 0.0261324\n",
      "[1050]\ttraining's multi_logloss: 0.02061\tvalid_1's multi_logloss: 0.0226442\n",
      "[1100]\ttraining's multi_logloss: 0.0180021\tvalid_1's multi_logloss: 0.0198151\n",
      "[1150]\ttraining's multi_logloss: 0.0157238\tvalid_1's multi_logloss: 0.0174151\n",
      "[1200]\ttraining's multi_logloss: 0.0137922\tvalid_1's multi_logloss: 0.0153298\n",
      "[1250]\ttraining's multi_logloss: 0.0122251\tvalid_1's multi_logloss: 0.0135989\n",
      "[1300]\ttraining's multi_logloss: 0.0108203\tvalid_1's multi_logloss: 0.0120463\n",
      "[1350]\ttraining's multi_logloss: 0.0095287\tvalid_1's multi_logloss: 0.0107214\n",
      "[1400]\ttraining's multi_logloss: 0.00844401\tvalid_1's multi_logloss: 0.00948693\n",
      "[1450]\ttraining's multi_logloss: 0.00747478\tvalid_1's multi_logloss: 0.00849413\n",
      "[1500]\ttraining's multi_logloss: 0.00658811\tvalid_1's multi_logloss: 0.00752647\n",
      "Did not meet early stopping. Best iteration is:\n",
      "[1500]\ttraining's multi_logloss: 0.00658811\tvalid_1's multi_logloss: 0.00752647\n",
      "Log Loss:  0.007526469742248852\n",
      "Training until validation scores don't improve for 20 rounds\n"
     ]
    },
    {
     "name": "stderr",
     "output_type": "stream",
     "text": [
      "/opt/conda/lib/python3.7/site-packages/lightgbm/engine.py:148: UserWarning: Found `num_iterations` in params. Will use it instead of argument\n",
      "  warnings.warn(\"Found `{}` in params. Will use it instead of argument\".format(alias))\n"
     ]
    },
    {
     "name": "stdout",
     "output_type": "stream",
     "text": [
      "[50]\ttraining's multi_logloss: 1.24747\tvalid_1's multi_logloss: 1.25417\n",
      "[100]\ttraining's multi_logloss: 0.84411\tvalid_1's multi_logloss: 0.852717\n",
      "[150]\ttraining's multi_logloss: 0.605749\tvalid_1's multi_logloss: 0.614679\n",
      "[200]\ttraining's multi_logloss: 0.448829\tvalid_1's multi_logloss: 0.458769\n",
      "[250]\ttraining's multi_logloss: 0.340113\tvalid_1's multi_logloss: 0.350227\n",
      "[300]\ttraining's multi_logloss: 0.265575\tvalid_1's multi_logloss: 0.275453\n",
      "[350]\ttraining's multi_logloss: 0.210127\tvalid_1's multi_logloss: 0.220122\n",
      "[400]\ttraining's multi_logloss: 0.170395\tvalid_1's multi_logloss: 0.179837\n",
      "[450]\ttraining's multi_logloss: 0.138793\tvalid_1's multi_logloss: 0.147719\n",
      "[500]\ttraining's multi_logloss: 0.114676\tvalid_1's multi_logloss: 0.123365\n",
      "[550]\ttraining's multi_logloss: 0.0954422\tvalid_1's multi_logloss: 0.103902\n",
      "[600]\ttraining's multi_logloss: 0.0797908\tvalid_1's multi_logloss: 0.0875756\n",
      "[650]\ttraining's multi_logloss: 0.067359\tvalid_1's multi_logloss: 0.0748152\n",
      "[700]\ttraining's multi_logloss: 0.0570582\tvalid_1's multi_logloss: 0.0641003\n",
      "[750]\ttraining's multi_logloss: 0.048338\tvalid_1's multi_logloss: 0.0548667\n",
      "[800]\ttraining's multi_logloss: 0.0411344\tvalid_1's multi_logloss: 0.0472864\n",
      "[850]\ttraining's multi_logloss: 0.0354663\tvalid_1's multi_logloss: 0.0413124\n",
      "[900]\ttraining's multi_logloss: 0.0305131\tvalid_1's multi_logloss: 0.035948\n",
      "[950]\ttraining's multi_logloss: 0.0265058\tvalid_1's multi_logloss: 0.0318405\n",
      "[1000]\ttraining's multi_logloss: 0.023074\tvalid_1's multi_logloss: 0.0281092\n",
      "[1050]\ttraining's multi_logloss: 0.0200517\tvalid_1's multi_logloss: 0.0248121\n",
      "[1100]\ttraining's multi_logloss: 0.0175324\tvalid_1's multi_logloss: 0.0221676\n",
      "[1150]\ttraining's multi_logloss: 0.0152782\tvalid_1's multi_logloss: 0.0197766\n",
      "[1200]\ttraining's multi_logloss: 0.0133686\tvalid_1's multi_logloss: 0.0175593\n",
      "[1250]\ttraining's multi_logloss: 0.0117835\tvalid_1's multi_logloss: 0.0158421\n",
      "[1300]\ttraining's multi_logloss: 0.0103603\tvalid_1's multi_logloss: 0.0141965\n",
      "[1350]\ttraining's multi_logloss: 0.00907159\tvalid_1's multi_logloss: 0.0127349\n",
      "[1400]\ttraining's multi_logloss: 0.00797729\tvalid_1's multi_logloss: 0.0114393\n",
      "[1450]\ttraining's multi_logloss: 0.00706229\tvalid_1's multi_logloss: 0.0104381\n",
      "[1500]\ttraining's multi_logloss: 0.00621028\tvalid_1's multi_logloss: 0.00940945\n",
      "Did not meet early stopping. Best iteration is:\n",
      "[1500]\ttraining's multi_logloss: 0.00621028\tvalid_1's multi_logloss: 0.00940945\n",
      "Log Loss:  0.009409445852185247\n",
      "Training until validation scores don't improve for 20 rounds\n"
     ]
    },
    {
     "name": "stderr",
     "output_type": "stream",
     "text": [
      "/opt/conda/lib/python3.7/site-packages/lightgbm/engine.py:148: UserWarning: Found `num_iterations` in params. Will use it instead of argument\n",
      "  warnings.warn(\"Found `{}` in params. Will use it instead of argument\".format(alias))\n"
     ]
    },
    {
     "name": "stdout",
     "output_type": "stream",
     "text": [
      "[50]\ttraining's multi_logloss: 1.24761\tvalid_1's multi_logloss: 1.25778\n",
      "[100]\ttraining's multi_logloss: 0.844254\tvalid_1's multi_logloss: 0.854605\n",
      "[150]\ttraining's multi_logloss: 0.605133\tvalid_1's multi_logloss: 0.614965\n",
      "[200]\ttraining's multi_logloss: 0.448965\tvalid_1's multi_logloss: 0.457905\n",
      "[250]\ttraining's multi_logloss: 0.34066\tvalid_1's multi_logloss: 0.348325\n",
      "[300]\ttraining's multi_logloss: 0.266181\tvalid_1's multi_logloss: 0.272907\n",
      "[350]\ttraining's multi_logloss: 0.211091\tvalid_1's multi_logloss: 0.217231\n",
      "[400]\ttraining's multi_logloss: 0.171023\tvalid_1's multi_logloss: 0.176645\n",
      "[450]\ttraining's multi_logloss: 0.139136\tvalid_1's multi_logloss: 0.144082\n",
      "[500]\ttraining's multi_logloss: 0.114864\tvalid_1's multi_logloss: 0.119415\n",
      "[550]\ttraining's multi_logloss: 0.095294\tvalid_1's multi_logloss: 0.0996248\n",
      "[600]\ttraining's multi_logloss: 0.0795603\tvalid_1's multi_logloss: 0.0838701\n",
      "[650]\ttraining's multi_logloss: 0.067069\tvalid_1's multi_logloss: 0.0715438\n",
      "[700]\ttraining's multi_logloss: 0.0570494\tvalid_1's multi_logloss: 0.0614598\n",
      "[750]\ttraining's multi_logloss: 0.0482466\tvalid_1's multi_logloss: 0.0525577\n",
      "[800]\ttraining's multi_logloss: 0.0410433\tvalid_1's multi_logloss: 0.0451162\n",
      "[850]\ttraining's multi_logloss: 0.0354746\tvalid_1's multi_logloss: 0.0394495\n",
      "[900]\ttraining's multi_logloss: 0.0305107\tvalid_1's multi_logloss: 0.034538\n",
      "[950]\ttraining's multi_logloss: 0.0263649\tvalid_1's multi_logloss: 0.0303325\n",
      "[1000]\ttraining's multi_logloss: 0.0229423\tvalid_1's multi_logloss: 0.0268478\n",
      "[1050]\ttraining's multi_logloss: 0.0199152\tvalid_1's multi_logloss: 0.0237471\n",
      "[1100]\ttraining's multi_logloss: 0.0174423\tvalid_1's multi_logloss: 0.0212909\n",
      "[1150]\ttraining's multi_logloss: 0.0152475\tvalid_1's multi_logloss: 0.0189432\n",
      "[1200]\ttraining's multi_logloss: 0.013354\tvalid_1's multi_logloss: 0.0168404\n",
      "[1250]\ttraining's multi_logloss: 0.0117605\tvalid_1's multi_logloss: 0.0151122\n",
      "[1300]\ttraining's multi_logloss: 0.0103185\tvalid_1's multi_logloss: 0.0134681\n",
      "[1350]\ttraining's multi_logloss: 0.00908184\tvalid_1's multi_logloss: 0.0121588\n",
      "[1400]\ttraining's multi_logloss: 0.00796228\tvalid_1's multi_logloss: 0.010974\n",
      "[1450]\ttraining's multi_logloss: 0.00704545\tvalid_1's multi_logloss: 0.00997967\n",
      "[1500]\ttraining's multi_logloss: 0.00624147\tvalid_1's multi_logloss: 0.00901134\n",
      "Did not meet early stopping. Best iteration is:\n",
      "[1500]\ttraining's multi_logloss: 0.00624147\tvalid_1's multi_logloss: 0.00901134\n",
      "Log Loss:  0.009011342412302467\n",
      "Training until validation scores don't improve for 20 rounds\n"
     ]
    },
    {
     "name": "stderr",
     "output_type": "stream",
     "text": [
      "/opt/conda/lib/python3.7/site-packages/lightgbm/engine.py:148: UserWarning: Found `num_iterations` in params. Will use it instead of argument\n",
      "  warnings.warn(\"Found `{}` in params. Will use it instead of argument\".format(alias))\n"
     ]
    },
    {
     "name": "stdout",
     "output_type": "stream",
     "text": [
      "[50]\ttraining's multi_logloss: 1.24877\tvalid_1's multi_logloss: 1.24766\n",
      "[100]\ttraining's multi_logloss: 0.844465\tvalid_1's multi_logloss: 0.844853\n",
      "[150]\ttraining's multi_logloss: 0.605207\tvalid_1's multi_logloss: 0.606893\n",
      "[200]\ttraining's multi_logloss: 0.449872\tvalid_1's multi_logloss: 0.452424\n",
      "[250]\ttraining's multi_logloss: 0.341152\tvalid_1's multi_logloss: 0.34454\n",
      "[300]\ttraining's multi_logloss: 0.266456\tvalid_1's multi_logloss: 0.270239\n",
      "[350]\ttraining's multi_logloss: 0.210825\tvalid_1's multi_logloss: 0.21505\n",
      "[400]\ttraining's multi_logloss: 0.170613\tvalid_1's multi_logloss: 0.175291\n",
      "[450]\ttraining's multi_logloss: 0.138911\tvalid_1's multi_logloss: 0.143712\n",
      "[500]\ttraining's multi_logloss: 0.114634\tvalid_1's multi_logloss: 0.119617\n",
      "[550]\ttraining's multi_logloss: 0.0952601\tvalid_1's multi_logloss: 0.100198\n",
      "[600]\ttraining's multi_logloss: 0.0798008\tvalid_1's multi_logloss: 0.0848808\n",
      "[650]\ttraining's multi_logloss: 0.0674343\tvalid_1's multi_logloss: 0.0723886\n",
      "[700]\ttraining's multi_logloss: 0.0573711\tvalid_1's multi_logloss: 0.062299\n",
      "[750]\ttraining's multi_logloss: 0.0486447\tvalid_1's multi_logloss: 0.0534613\n",
      "[800]\ttraining's multi_logloss: 0.0415245\tvalid_1's multi_logloss: 0.0460392\n",
      "[850]\ttraining's multi_logloss: 0.0357863\tvalid_1's multi_logloss: 0.0400961\n",
      "[900]\ttraining's multi_logloss: 0.0307088\tvalid_1's multi_logloss: 0.0346677\n",
      "[950]\ttraining's multi_logloss: 0.026517\tvalid_1's multi_logloss: 0.030267\n",
      "[1000]\ttraining's multi_logloss: 0.0230594\tvalid_1's multi_logloss: 0.0266786\n",
      "[1050]\ttraining's multi_logloss: 0.02018\tvalid_1's multi_logloss: 0.0236989\n",
      "[1100]\ttraining's multi_logloss: 0.0176632\tvalid_1's multi_logloss: 0.0210875\n",
      "[1150]\ttraining's multi_logloss: 0.0153993\tvalid_1's multi_logloss: 0.0187042\n",
      "[1200]\ttraining's multi_logloss: 0.013525\tvalid_1's multi_logloss: 0.0166302\n",
      "[1250]\ttraining's multi_logloss: 0.0119275\tvalid_1's multi_logloss: 0.0149814\n",
      "[1300]\ttraining's multi_logloss: 0.0105577\tvalid_1's multi_logloss: 0.0134891\n",
      "[1350]\ttraining's multi_logloss: 0.0092919\tvalid_1's multi_logloss: 0.0120536\n",
      "[1400]\ttraining's multi_logloss: 0.00817079\tvalid_1's multi_logloss: 0.0107629\n",
      "[1450]\ttraining's multi_logloss: 0.00727317\tvalid_1's multi_logloss: 0.00981077\n",
      "[1500]\ttraining's multi_logloss: 0.00643705\tvalid_1's multi_logloss: 0.00875853\n",
      "Did not meet early stopping. Best iteration is:\n",
      "[1500]\ttraining's multi_logloss: 0.00643705\tvalid_1's multi_logloss: 0.00875853\n",
      "Log Loss:  0.008758531783791563\n",
      "Training until validation scores don't improve for 20 rounds\n"
     ]
    },
    {
     "name": "stderr",
     "output_type": "stream",
     "text": [
      "/opt/conda/lib/python3.7/site-packages/lightgbm/engine.py:148: UserWarning: Found `num_iterations` in params. Will use it instead of argument\n",
      "  warnings.warn(\"Found `{}` in params. Will use it instead of argument\".format(alias))\n"
     ]
    },
    {
     "name": "stdout",
     "output_type": "stream",
     "text": [
      "[50]\ttraining's multi_logloss: 1.24515\tvalid_1's multi_logloss: 1.26386\n",
      "[100]\ttraining's multi_logloss: 0.83954\tvalid_1's multi_logloss: 0.865184\n",
      "[150]\ttraining's multi_logloss: 0.599953\tvalid_1's multi_logloss: 0.627942\n",
      "[200]\ttraining's multi_logloss: 0.445506\tvalid_1's multi_logloss: 0.473864\n",
      "[250]\ttraining's multi_logloss: 0.338057\tvalid_1's multi_logloss: 0.365871\n",
      "[300]\ttraining's multi_logloss: 0.263264\tvalid_1's multi_logloss: 0.289454\n",
      "[350]\ttraining's multi_logloss: 0.208205\tvalid_1's multi_logloss: 0.232315\n",
      "[400]\ttraining's multi_logloss: 0.168249\tvalid_1's multi_logloss: 0.190689\n",
      "[450]\ttraining's multi_logloss: 0.13662\tvalid_1's multi_logloss: 0.157789\n",
      "[500]\ttraining's multi_logloss: 0.11242\tvalid_1's multi_logloss: 0.132136\n",
      "[550]\ttraining's multi_logloss: 0.0934363\tvalid_1's multi_logloss: 0.111992\n",
      "[600]\ttraining's multi_logloss: 0.0782163\tvalid_1's multi_logloss: 0.0954191\n",
      "[650]\ttraining's multi_logloss: 0.0659867\tvalid_1's multi_logloss: 0.0821741\n",
      "[700]\ttraining's multi_logloss: 0.0561223\tvalid_1's multi_logloss: 0.071414\n",
      "[750]\ttraining's multi_logloss: 0.0476291\tvalid_1's multi_logloss: 0.061784\n",
      "[800]\ttraining's multi_logloss: 0.0406194\tvalid_1's multi_logloss: 0.0542136\n",
      "[850]\ttraining's multi_logloss: 0.0350095\tvalid_1's multi_logloss: 0.0478711\n",
      "[900]\ttraining's multi_logloss: 0.0300598\tvalid_1's multi_logloss: 0.0421747\n",
      "[950]\ttraining's multi_logloss: 0.0260583\tvalid_1's multi_logloss: 0.0377885\n",
      "[1000]\ttraining's multi_logloss: 0.0226927\tvalid_1's multi_logloss: 0.0339051\n",
      "[1050]\ttraining's multi_logloss: 0.0198345\tvalid_1's multi_logloss: 0.0304815\n",
      "[1100]\ttraining's multi_logloss: 0.0173485\tvalid_1's multi_logloss: 0.0276329\n",
      "[1150]\ttraining's multi_logloss: 0.0151808\tvalid_1's multi_logloss: 0.0250222\n",
      "[1200]\ttraining's multi_logloss: 0.0132817\tvalid_1's multi_logloss: 0.0226463\n",
      "[1250]\ttraining's multi_logloss: 0.0117163\tvalid_1's multi_logloss: 0.0207419\n",
      "[1300]\ttraining's multi_logloss: 0.0103736\tvalid_1's multi_logloss: 0.0192421\n",
      "[1350]\ttraining's multi_logloss: 0.0091414\tvalid_1's multi_logloss: 0.0176332\n",
      "[1400]\ttraining's multi_logloss: 0.00803515\tvalid_1's multi_logloss: 0.0161695\n",
      "[1450]\ttraining's multi_logloss: 0.00712693\tvalid_1's multi_logloss: 0.0150431\n",
      "[1500]\ttraining's multi_logloss: 0.00631016\tvalid_1's multi_logloss: 0.0140617\n",
      "Did not meet early stopping. Best iteration is:\n",
      "[1500]\ttraining's multi_logloss: 0.00631016\tvalid_1's multi_logloss: 0.0140617\n",
      "Log Loss:  0.014061667764756165\n",
      "Training until validation scores don't improve for 20 rounds\n"
     ]
    },
    {
     "name": "stderr",
     "output_type": "stream",
     "text": [
      "/opt/conda/lib/python3.7/site-packages/lightgbm/engine.py:148: UserWarning: Found `num_iterations` in params. Will use it instead of argument\n",
      "  warnings.warn(\"Found `{}` in params. Will use it instead of argument\".format(alias))\n"
     ]
    },
    {
     "name": "stdout",
     "output_type": "stream",
     "text": [
      "[50]\ttraining's multi_logloss: 1.24742\tvalid_1's multi_logloss: 1.24482\n",
      "[100]\ttraining's multi_logloss: 0.842389\tvalid_1's multi_logloss: 0.840103\n",
      "[150]\ttraining's multi_logloss: 0.603358\tvalid_1's multi_logloss: 0.601587\n",
      "[200]\ttraining's multi_logloss: 0.446928\tvalid_1's multi_logloss: 0.445594\n",
      "[250]\ttraining's multi_logloss: 0.338869\tvalid_1's multi_logloss: 0.338456\n",
      "[300]\ttraining's multi_logloss: 0.264538\tvalid_1's multi_logloss: 0.264878\n",
      "[350]\ttraining's multi_logloss: 0.209549\tvalid_1's multi_logloss: 0.210212\n",
      "[400]\ttraining's multi_logloss: 0.169669\tvalid_1's multi_logloss: 0.17083\n",
      "[450]\ttraining's multi_logloss: 0.137924\tvalid_1's multi_logloss: 0.139568\n",
      "[500]\ttraining's multi_logloss: 0.113721\tvalid_1's multi_logloss: 0.115913\n",
      "[550]\ttraining's multi_logloss: 0.094614\tvalid_1's multi_logloss: 0.0971794\n",
      "[600]\ttraining's multi_logloss: 0.079168\tvalid_1's multi_logloss: 0.0820485\n",
      "[650]\ttraining's multi_logloss: 0.0668495\tvalid_1's multi_logloss: 0.0700182\n",
      "[700]\ttraining's multi_logloss: 0.0567211\tvalid_1's multi_logloss: 0.0600252\n",
      "[750]\ttraining's multi_logloss: 0.04822\tvalid_1's multi_logloss: 0.0514854\n",
      "[800]\ttraining's multi_logloss: 0.0411057\tvalid_1's multi_logloss: 0.0445309\n",
      "[850]\ttraining's multi_logloss: 0.0355935\tvalid_1's multi_logloss: 0.0390878\n",
      "[900]\ttraining's multi_logloss: 0.030748\tvalid_1's multi_logloss: 0.0342454\n",
      "[950]\ttraining's multi_logloss: 0.0266291\tvalid_1's multi_logloss: 0.0302411\n",
      "[1000]\ttraining's multi_logloss: 0.0232527\tvalid_1's multi_logloss: 0.0269311\n",
      "[1050]\ttraining's multi_logloss: 0.0203332\tvalid_1's multi_logloss: 0.0239548\n",
      "[1100]\ttraining's multi_logloss: 0.0177824\tvalid_1's multi_logloss: 0.0214127\n",
      "[1150]\ttraining's multi_logloss: 0.0155393\tvalid_1's multi_logloss: 0.0191236\n",
      "[1200]\ttraining's multi_logloss: 0.013591\tvalid_1's multi_logloss: 0.017145\n",
      "[1250]\ttraining's multi_logloss: 0.0119984\tvalid_1's multi_logloss: 0.015538\n",
      "[1300]\ttraining's multi_logloss: 0.0106161\tvalid_1's multi_logloss: 0.0141556\n",
      "[1350]\ttraining's multi_logloss: 0.00932692\tvalid_1's multi_logloss: 0.0127767\n",
      "[1400]\ttraining's multi_logloss: 0.00816451\tvalid_1's multi_logloss: 0.0114339\n",
      "[1450]\ttraining's multi_logloss: 0.00720748\tvalid_1's multi_logloss: 0.010396\n",
      "[1500]\ttraining's multi_logloss: 0.00634218\tvalid_1's multi_logloss: 0.00952119\n",
      "Did not meet early stopping. Best iteration is:\n",
      "[1500]\ttraining's multi_logloss: 0.00634218\tvalid_1's multi_logloss: 0.00952119\n",
      "Log Loss:  0.009521186872936328\n"
     ]
    }
   ],
   "source": [
    "err = []\n",
    "fold = StratifiedKFold(n_splits=6, shuffle=True, random_state=42)\n",
    "for train_index, test_index in fold.split(X, y):\n",
    "    \n",
    "    X_train, X_cv = X.loc[train_index], X.loc[test_index]\n",
    "    y_train, y_cv = y[train_index], y[test_index]\n",
    "    \n",
    "    train_data = lgb.Dataset(X_train, label=y_train)\n",
    "    val_data = lgb.Dataset(X_cv, label=y_cv)\n",
    "    \n",
    "    clf = lgb.train(params=param, \n",
    "                     early_stopping_rounds=20,\n",
    "                     verbose_eval=50,\n",
    "                     train_set=train_data,\n",
    "                     valid_sets=[train_data, val_data])\n",
    "\n",
    "    y_pred = clf.predict(X_cv)\n",
    "    print(\"Log Loss: \", (log_loss(y_cv, y_pred)))\n",
    "    err.append(log_loss(y_cv, y_pred))"
   ]
  },
  {
   "cell_type": "code",
   "execution_count": 37,
   "metadata": {},
   "outputs": [
    {
     "data": {
      "text/plain": [
       "0.009714774071370103"
      ]
     },
     "execution_count": 37,
     "metadata": {},
     "output_type": "execute_result"
    }
   ],
   "source": [
    "np.mean(err,0)"
   ]
  },
  {
   "cell_type": "code",
   "execution_count": null,
   "metadata": {},
   "outputs": [],
   "source": []
  }
 ],
 "metadata": {
  "kernelspec": {
   "display_name": "Python 3",
   "language": "python",
   "name": "python3"
  },
  "language_info": {
   "codemirror_mode": {
    "name": "ipython",
    "version": 3
   },
   "file_extension": ".py",
   "mimetype": "text/x-python",
   "name": "python",
   "nbconvert_exporter": "python",
   "pygments_lexer": "ipython3",
   "version": "3.7.4"
  }
 },
 "nbformat": 4,
 "nbformat_minor": 4
}
