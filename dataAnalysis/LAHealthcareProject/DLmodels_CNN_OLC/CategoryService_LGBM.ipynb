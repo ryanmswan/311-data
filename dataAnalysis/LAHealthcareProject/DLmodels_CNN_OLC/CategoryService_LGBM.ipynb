{
 "cells": [
  {
   "cell_type": "markdown",
   "metadata": {},
   "source": [
    "### Categories of Services Shortage Classification (LGBM Multi-Class)\n",
    "\n",
    "1. Data was first pre-processed and load the final version of la_facility_mua.csv here\n",
    "\n",
    "2. Since feature engineering has been done, a few touch-ups before training:\n",
    "\n",
    "a) **Feature Mapping,**\n",
    "\n",
    "b) **Dropping useless variables,**\n",
    "\n",
    "c) **Datetime conversion,**\n",
    "\n",
    "d) **Days Diff**\n",
    "\n",
    "3. We have **3 main types of Services (Target variable: Category Service)**\n",
    "\n",
    "a) **Health and Mental Health**\n",
    "\n",
    "b) **Social Services**\n",
    "\n",
    "c) **Public Safety**\n",
    "\n",
    "4. Data was split into Train and Validation\n",
    "\n",
    "5. Model: **LGBM**\n",
    "\n",
    "6. 2 Methods:\n",
    "\n",
    "a) Simple train-test-split\n",
    " \n",
    "b) 6-StratifiedKFold"
   ]
  },
  {
   "cell_type": "code",
   "execution_count": 2,
   "metadata": {},
   "outputs": [],
   "source": [
    "import os\n",
    "os.environ['PYTHONHASHSEED']='0'"
   ]
  },
  {
   "cell_type": "code",
   "execution_count": 3,
   "metadata": {
    "scrolled": true
   },
   "outputs": [
    {
     "name": "stderr",
     "output_type": "stream",
     "text": [
      "Using TensorFlow backend.\n"
     ]
    }
   ],
   "source": [
    "import pandas as pd\n",
    "import numpy as np\n",
    "import random as rn\n",
    "# Deep Learning Libraries\n",
    "from tensorflow import keras\n",
    "from tensorflow.keras import Sequential\n",
    "from tensorflow.keras.layers import Flatten,Dense,Dropout,BatchNormalization\n",
    "from tensorflow.keras.layers import Conv1D,MaxPool1D\n",
    "from tensorflow.keras.optimizers import Adam\n",
    "from tensorflow.keras.callbacks import EarlyStopping, ReduceLROnPlateau, ModelCheckpoint\n",
    "from tensorflow.keras import callbacks\n",
    "from tensorflow.keras.models import load_model\n",
    "import tensorflow as tf\n",
    "np.random.seed(37)\n",
    "rn.seed(42)\n",
    "tf.random.set_seed(42)\n",
    "from keras import backend as K"
   ]
  },
  {
   "cell_type": "code",
   "execution_count": 4,
   "metadata": {},
   "outputs": [],
   "source": [
    "import pandas as pd\n",
    "import numpy as np\n",
    "import seaborn as sns\n",
    "import re\n",
    "from datetime import datetime\n",
    "import matplotlib.pyplot as plt\n",
    "%matplotlib inline\n",
    "import matplotlib.gridspec as gridspec\n",
    "from math import sqrt \n",
    "from sklearn.metrics import log_loss\n",
    "import lightgbm as lgb\n",
    "from sklearn.preprocessing import StandardScaler\n",
    "from sklearn.metrics import auc,roc_auc_score\n",
    "from catboost import CatBoostClassifier,Pool, cv\n",
    "from sklearn.preprocessing import LabelEncoder\n",
    "from lightgbm import LGBMClassifier\n",
    "from sklearn.metrics import roc_curve, auc, classification_report, confusion_matrix, accuracy_score\n",
    "from sklearn.model_selection import train_test_split, cross_val_score, KFold, StratifiedKFold\n",
    "\n",
    "la_facility_mua = pd.read_csv('../input/la-final-data-2/la_facility_mua.csv')"
   ]
  },
  {
   "cell_type": "code",
   "execution_count": 5,
   "metadata": {},
   "outputs": [
    {
     "data": {
      "text/html": [
       "<div>\n",
       "<style scoped>\n",
       "    .dataframe tbody tr th:only-of-type {\n",
       "        vertical-align: middle;\n",
       "    }\n",
       "\n",
       "    .dataframe tbody tr th {\n",
       "        vertical-align: top;\n",
       "    }\n",
       "\n",
       "    .dataframe thead th {\n",
       "        text-align: right;\n",
       "    }\n",
       "</style>\n",
       "<table border=\"1\" class=\"dataframe\">\n",
       "  <thead>\n",
       "    <tr style=\"text-align: right;\">\n",
       "      <th></th>\n",
       "      <th>source</th>\n",
       "      <th>cat1</th>\n",
       "      <th>cat2</th>\n",
       "      <th>org_name</th>\n",
       "      <th>Name</th>\n",
       "      <th>addrln1</th>\n",
       "      <th>city</th>\n",
       "      <th>state</th>\n",
       "      <th>post_id</th>\n",
       "      <th>description</th>\n",
       "      <th>...</th>\n",
       "      <th>facility_address_1</th>\n",
       "      <th>MUA_RuralStatus</th>\n",
       "      <th>MUA_Designated_Time</th>\n",
       "      <th>MUA_Designated_Date</th>\n",
       "      <th>MUA_MSSA_Name_1</th>\n",
       "      <th>MUA_Updated_Time</th>\n",
       "      <th>MUA_Updated_Date</th>\n",
       "      <th>MUA_Poverty</th>\n",
       "      <th>MUA_Score</th>\n",
       "      <th>MUA_Pct_100Poverty</th>\n",
       "    </tr>\n",
       "  </thead>\n",
       "  <tbody>\n",
       "    <tr>\n",
       "      <th>0</th>\n",
       "      <td>211</td>\n",
       "      <td>Social Services</td>\n",
       "      <td>Children and Family Services</td>\n",
       "      <td>neweconomicsforwomen.org</td>\n",
       "      <td>New Economics For Women - Familysource Center ...</td>\n",
       "      <td>501 S. Bixel St.</td>\n",
       "      <td>Los Angeles</td>\n",
       "      <td>CA</td>\n",
       "      <td>56652</td>\n",
       "      <td>The agency is an economic development organiza...</td>\n",
       "      <td>...</td>\n",
       "      <td>415 South Union Avenue</td>\n",
       "      <td>Urban</td>\n",
       "      <td>1.067990e+12</td>\n",
       "      <td>2003-11-05</td>\n",
       "      <td>MSSA 78.2b (Pico Union/Westlake)</td>\n",
       "      <td>1.067990e+12</td>\n",
       "      <td>2003-11-05</td>\n",
       "      <td>157757.0</td>\n",
       "      <td>51.0</td>\n",
       "      <td>0.0</td>\n",
       "    </tr>\n",
       "    <tr>\n",
       "      <th>1</th>\n",
       "      <td>211</td>\n",
       "      <td>Social Services</td>\n",
       "      <td>Children and Family Services</td>\n",
       "      <td>neweconomicsforwomen.org</td>\n",
       "      <td>New Economics For Women - Familysource Center ...</td>\n",
       "      <td>501 S. Bixel St.</td>\n",
       "      <td>Los Angeles</td>\n",
       "      <td>CA</td>\n",
       "      <td>56652</td>\n",
       "      <td>The agency is an economic development organiza...</td>\n",
       "      <td>...</td>\n",
       "      <td>600 St Paul Ave</td>\n",
       "      <td>Urban</td>\n",
       "      <td>7.686144e+11</td>\n",
       "      <td>1994-05-11</td>\n",
       "      <td>Westlake Service Area</td>\n",
       "      <td>1.005782e+12</td>\n",
       "      <td>2001-11-15</td>\n",
       "      <td>0.0</td>\n",
       "      <td>60.1</td>\n",
       "      <td>0.0</td>\n",
       "    </tr>\n",
       "    <tr>\n",
       "      <th>2</th>\n",
       "      <td>211</td>\n",
       "      <td>Social Services</td>\n",
       "      <td>Children and Family Services</td>\n",
       "      <td>neweconomicsforwomen.org</td>\n",
       "      <td>New Economics For Women - Familysource Center ...</td>\n",
       "      <td>501 S. Bixel St.</td>\n",
       "      <td>Los Angeles</td>\n",
       "      <td>CA</td>\n",
       "      <td>56652</td>\n",
       "      <td>The agency is an economic development organiza...</td>\n",
       "      <td>...</td>\n",
       "      <td>1125 W 6th St</td>\n",
       "      <td>Urban</td>\n",
       "      <td>7.686144e+11</td>\n",
       "      <td>1994-05-11</td>\n",
       "      <td>Westlake Service Area</td>\n",
       "      <td>1.005782e+12</td>\n",
       "      <td>2001-11-15</td>\n",
       "      <td>0.0</td>\n",
       "      <td>60.1</td>\n",
       "      <td>0.0</td>\n",
       "    </tr>\n",
       "    <tr>\n",
       "      <th>3</th>\n",
       "      <td>211</td>\n",
       "      <td>Social Services</td>\n",
       "      <td>Children and Family Services</td>\n",
       "      <td>neweconomicsforwomen.org</td>\n",
       "      <td>New Economics For Women - Familysource Center ...</td>\n",
       "      <td>501 S. Bixel St.</td>\n",
       "      <td>Los Angeles</td>\n",
       "      <td>CA</td>\n",
       "      <td>56652</td>\n",
       "      <td>The agency is an economic development organiza...</td>\n",
       "      <td>...</td>\n",
       "      <td>1225 Wilshire Boulevard</td>\n",
       "      <td>Urban</td>\n",
       "      <td>7.686144e+11</td>\n",
       "      <td>1994-05-11</td>\n",
       "      <td>Westlake Service Area</td>\n",
       "      <td>1.005782e+12</td>\n",
       "      <td>2001-11-15</td>\n",
       "      <td>0.0</td>\n",
       "      <td>60.1</td>\n",
       "      <td>0.0</td>\n",
       "    </tr>\n",
       "    <tr>\n",
       "      <th>4</th>\n",
       "      <td>211</td>\n",
       "      <td>Social Services</td>\n",
       "      <td>Children and Family Services</td>\n",
       "      <td>neweconomicsforwomen.org</td>\n",
       "      <td>New Economics For Women - Familysource Center ...</td>\n",
       "      <td>501 S. Bixel St.</td>\n",
       "      <td>Los Angeles</td>\n",
       "      <td>CA</td>\n",
       "      <td>56652</td>\n",
       "      <td>The agency is an economic development organiza...</td>\n",
       "      <td>...</td>\n",
       "      <td>1127 Wilshire Blvd</td>\n",
       "      <td>Urban</td>\n",
       "      <td>7.686144e+11</td>\n",
       "      <td>1994-05-11</td>\n",
       "      <td>Westlake Service Area</td>\n",
       "      <td>1.005782e+12</td>\n",
       "      <td>2001-11-15</td>\n",
       "      <td>0.0</td>\n",
       "      <td>60.1</td>\n",
       "      <td>0.0</td>\n",
       "    </tr>\n",
       "  </tbody>\n",
       "</table>\n",
       "<p>5 rows × 32 columns</p>\n",
       "</div>"
      ],
      "text/plain": [
       "  source             cat1                          cat2  \\\n",
       "0    211  Social Services  Children and Family Services   \n",
       "1    211  Social Services  Children and Family Services   \n",
       "2    211  Social Services  Children and Family Services   \n",
       "3    211  Social Services  Children and Family Services   \n",
       "4    211  Social Services  Children and Family Services   \n",
       "\n",
       "                   org_name  \\\n",
       "0  neweconomicsforwomen.org   \n",
       "1  neweconomicsforwomen.org   \n",
       "2  neweconomicsforwomen.org   \n",
       "3  neweconomicsforwomen.org   \n",
       "4  neweconomicsforwomen.org   \n",
       "\n",
       "                                                Name           addrln1  \\\n",
       "0  New Economics For Women - Familysource Center ...  501 S. Bixel St.   \n",
       "1  New Economics For Women - Familysource Center ...  501 S. Bixel St.   \n",
       "2  New Economics For Women - Familysource Center ...  501 S. Bixel St.   \n",
       "3  New Economics For Women - Familysource Center ...  501 S. Bixel St.   \n",
       "4  New Economics For Women - Familysource Center ...  501 S. Bixel St.   \n",
       "\n",
       "          city state  post_id  \\\n",
       "0  Los Angeles    CA    56652   \n",
       "1  Los Angeles    CA    56652   \n",
       "2  Los Angeles    CA    56652   \n",
       "3  Los Angeles    CA    56652   \n",
       "4  Los Angeles    CA    56652   \n",
       "\n",
       "                                         description  ...  \\\n",
       "0  The agency is an economic development organiza...  ...   \n",
       "1  The agency is an economic development organiza...  ...   \n",
       "2  The agency is an economic development organiza...  ...   \n",
       "3  The agency is an economic development organiza...  ...   \n",
       "4  The agency is an economic development organiza...  ...   \n",
       "\n",
       "        facility_address_1 MUA_RuralStatus  MUA_Designated_Time  \\\n",
       "0   415 South Union Avenue           Urban         1.067990e+12   \n",
       "1          600 St Paul Ave           Urban         7.686144e+11   \n",
       "2            1125 W 6th St           Urban         7.686144e+11   \n",
       "3  1225 Wilshire Boulevard           Urban         7.686144e+11   \n",
       "4       1127 Wilshire Blvd           Urban         7.686144e+11   \n",
       "\n",
       "   MUA_Designated_Date                   MUA_MSSA_Name_1  MUA_Updated_Time  \\\n",
       "0           2003-11-05  MSSA 78.2b (Pico Union/Westlake)      1.067990e+12   \n",
       "1           1994-05-11             Westlake Service Area      1.005782e+12   \n",
       "2           1994-05-11             Westlake Service Area      1.005782e+12   \n",
       "3           1994-05-11             Westlake Service Area      1.005782e+12   \n",
       "4           1994-05-11             Westlake Service Area      1.005782e+12   \n",
       "\n",
       "  MUA_Updated_Date MUA_Poverty MUA_Score  MUA_Pct_100Poverty  \n",
       "0       2003-11-05    157757.0      51.0                 0.0  \n",
       "1       2001-11-15         0.0      60.1                 0.0  \n",
       "2       2001-11-15         0.0      60.1                 0.0  \n",
       "3       2001-11-15         0.0      60.1                 0.0  \n",
       "4       2001-11-15         0.0      60.1                 0.0  \n",
       "\n",
       "[5 rows x 32 columns]"
      ]
     },
     "execution_count": 5,
     "metadata": {},
     "output_type": "execute_result"
    }
   ],
   "source": [
    "la_facility_mua.head()"
   ]
  },
  {
   "cell_type": "code",
   "execution_count": 9,
   "metadata": {},
   "outputs": [],
   "source": [
    "la_facility_mua.rename({'cat1': 'Category Service'}, axis=1, inplace=True)"
   ]
  },
  {
   "cell_type": "markdown",
   "metadata": {},
   "source": [
    "#### We will use 'Service Category' as our target variable"
   ]
  },
  {
   "cell_type": "code",
   "execution_count": 10,
   "metadata": {},
   "outputs": [
    {
     "data": {
      "text/plain": [
       "Health and Mental Health    4858\n",
       "Social Services             4330\n",
       "Public Safety               1317\n",
       "Name: Category Service, dtype: int64"
      ]
     },
     "execution_count": 10,
     "metadata": {},
     "output_type": "execute_result"
    }
   ],
   "source": [
    "la_facility_mua['Category Service'].value_counts().sort_values(ascending=False)"
   ]
  },
  {
   "cell_type": "code",
   "execution_count": 11,
   "metadata": {},
   "outputs": [],
   "source": [
    "la_facility_mua['Category Service']=la_facility_mua['Category Service'].map({\n",
    "'Health and Mental Health':0,\n",
    "'Social Services':1,\n",
    "'Public Safety':2\n",
    "})\n",
    "la_facility_mua['Category Service']=la_facility_mua['Category Service'].astype('int32')"
   ]
  },
  {
   "cell_type": "code",
   "execution_count": 13,
   "metadata": {},
   "outputs": [],
   "source": [
    "la_facility_mua['facility_er_service'] = la_facility_mua['facility_er_service'].map({\n",
    "'Not Applicable':'Not Applicable',\n",
    "'None':'Not Applicable',\n",
    "'Emergency - Basic':'Emergency',\n",
    "'Emergency - Comprehensive':'Emergency',\n",
    "'Emergency - Standby':'Emergency'\n",
    "})"
   ]
  },
  {
   "cell_type": "code",
   "execution_count": 14,
   "metadata": {},
   "outputs": [],
   "source": [
    "la_facility_mua['MUA_Poverty']=la_facility_mua['MUA_Poverty'].map({\n",
    "157757.0:2,\n",
    "129447.0:1,\n",
    "0.0:0,\n",
    "})"
   ]
  },
  {
   "cell_type": "code",
   "execution_count": 19,
   "metadata": {},
   "outputs": [],
   "source": [
    "la_facility_mua['MUA_Designated_Date'] = pd.to_datetime(la_facility_mua['MUA_Designated_Date']) \n",
    "la_facility_mua['MUA_Updated_Date'] = pd.to_datetime(la_facility_mua['MUA_Updated_Date']) \n",
    "la_facility_mua['Date Difference'] = la_facility_mua['MUA_Updated_Date']-la_facility_mua['MUA_Designated_Date']"
   ]
  },
  {
   "cell_type": "code",
   "execution_count": 20,
   "metadata": {},
   "outputs": [],
   "source": [
    "def ddiff2days(ddiff):\n",
    "    if not pd.isnull(ddiff):\n",
    "        return pd.Timedelta.total_seconds(ddiff)/(24.*3600)\n",
    "    else:\n",
    "        return np.NaN"
   ]
  },
  {
   "cell_type": "code",
   "execution_count": 21,
   "metadata": {},
   "outputs": [],
   "source": [
    "la_facility_mua['Date Difference']=la_facility_mua['Date Difference'].apply(ddiff2days)\n",
    "la_facility_mua['Date Difference']=la_facility_mua['Date Difference'].astype('int32')"
   ]
  },
  {
   "cell_type": "code",
   "execution_count": 22,
   "metadata": {},
   "outputs": [],
   "source": [
    "la_facility_mua['design_year'] = (la_facility_mua['MUA_Designated_Date'].dt.year).astype('int32')\n",
    "la_facility_mua['design_month'] = (la_facility_mua['MUA_Designated_Date'].dt.month).astype('int32')\n",
    "la_facility_mua['design_week'] = (la_facility_mua['MUA_Designated_Date'].dt.week).astype('int32')\n",
    "la_facility_mua['design_dow'] = (la_facility_mua['MUA_Designated_Date'].dt.dayofweek).astype('int32')\n",
    "\n",
    "la_facility_mua['update_year'] = (la_facility_mua['MUA_Updated_Date'].dt.year).astype('int32')\n",
    "la_facility_mua['update_month'] = (la_facility_mua['MUA_Updated_Date'].dt.month).astype('int32')\n",
    "la_facility_mua['update_week'] = (la_facility_mua['MUA_Updated_Date'].dt.week).astype('int32')\n",
    "la_facility_mua['update_dow'] = (la_facility_mua['MUA_Updated_Date'].dt.dayofweek).astype('int32')"
   ]
  },
  {
   "cell_type": "code",
   "execution_count": 24,
   "metadata": {},
   "outputs": [],
   "source": [
    "la_facility_mua.drop(['MUA_Designated_Date', 'MUA_Updated_Date',                     \n",
    " ], axis=1, inplace=True)"
   ]
  },
  {
   "cell_type": "code",
   "execution_count": 25,
   "metadata": {},
   "outputs": [],
   "source": [
    "cols = [c for c in la_facility_mua.columns if la_facility_mua[c].dtypes=='object']\n",
    "for c in cols:\n",
    "    le = LabelEncoder()\n",
    "    la_facility_mua[c] = (le.fit_transform(la_facility_mua[c])).astype('int32')"
   ]
  },
  {
   "cell_type": "code",
   "execution_count": 27,
   "metadata": {},
   "outputs": [],
   "source": [
    "X = la_facility_mua.drop(labels=['Category Service'], axis=1)\n",
    "y = la_facility_mua['Category Service']\n",
    "\n",
    "from sklearn.model_selection import train_test_split\n",
    "X_train, X_cv, y_train, y_cv = train_test_split(X, y, test_size=0.25, random_state=tf.random.set_seed(42))"
   ]
  },
  {
   "cell_type": "code",
   "execution_count": 28,
   "metadata": {},
   "outputs": [
    {
     "name": "stderr",
     "output_type": "stream",
     "text": [
      "/opt/conda/lib/python3.7/site-packages/lightgbm/engine.py:148: UserWarning: Found `num_iterations` in params. Will use it instead of argument\n",
      "  warnings.warn(\"Found `{}` in params. Will use it instead of argument\".format(alias))\n"
     ]
    },
    {
     "name": "stdout",
     "output_type": "stream",
     "text": [
      "Training until validation scores don't improve for 20 rounds\n",
      "[100]\ttraining's multi_logloss: 0.359722\tvalid_1's multi_logloss: 0.362897\n",
      "[200]\ttraining's multi_logloss: 0.14356\tvalid_1's multi_logloss: 0.146571\n",
      "[300]\ttraining's multi_logloss: 0.0596748\tvalid_1's multi_logloss: 0.0614401\n",
      "[400]\ttraining's multi_logloss: 0.0259907\tvalid_1's multi_logloss: 0.0269914\n",
      "[500]\ttraining's multi_logloss: 0.0111178\tvalid_1's multi_logloss: 0.0116297\n",
      "[600]\ttraining's multi_logloss: 0.00462279\tvalid_1's multi_logloss: 0.0048732\n",
      "[700]\ttraining's multi_logloss: 0.00203674\tvalid_1's multi_logloss: 0.00215985\n",
      "[800]\ttraining's multi_logloss: 0.000941833\tvalid_1's multi_logloss: 0.00100505\n",
      "Did not meet early stopping. Best iteration is:\n",
      "[800]\ttraining's multi_logloss: 0.000941833\tvalid_1's multi_logloss: 0.00100505\n"
     ]
    }
   ],
   "source": [
    "train_data = lgb.Dataset(X_train, label=y_train)\n",
    "test_data = lgb.Dataset(X_cv, label=y_cv)\n",
    "\n",
    "param = {'num_iterations': 800,\n",
    "         'num_leaves': 31,\n",
    "         'max_depth': -1,\n",
    "         'learning_rate': 0.01, \n",
    "         'num_class': 3,\n",
    "         'objective': 'multiclass',\n",
    "         'metric': 'multi_logloss',\n",
    "         'min_data_per_group': 80,\n",
    "         'feature_fraction': 0.4,\n",
    "         'bagging_fraction':0.5,\n",
    "         'bagging_freq': 5,\n",
    "         'boosting': 'gbdt',\n",
    "         'is_unbalance':True\n",
    "         }\n",
    "\n",
    "clf = lgb.train(params=param, \n",
    "                early_stopping_rounds=20,\n",
    "                verbose_eval=100,\n",
    "                train_set=train_data,\n",
    "                valid_sets=[train_data, test_data])\n",
    "\n",
    "y_pred = clf.predict(X_cv)"
   ]
  },
  {
   "cell_type": "code",
   "execution_count": 29,
   "metadata": {},
   "outputs": [
    {
     "data": {
      "text/plain": [
       "0.0010050492112406231"
      ]
     },
     "execution_count": 29,
     "metadata": {},
     "output_type": "execute_result"
    }
   ],
   "source": [
    "log_loss(y_cv, y_pred)"
   ]
  },
  {
   "cell_type": "code",
   "execution_count": 30,
   "metadata": {},
   "outputs": [
    {
     "data": {
      "image/png": "[encoded data removed]",
      "text/plain": [
       "<Figure size 720x576 with 1 Axes>"
      ]
     },
     "metadata": {
      "needs_background": "light"
     },
     "output_type": "display_data"
    }
   ],
   "source": [
    "feature_imp = pd.DataFrame(sorted(zip(clf.feature_importance(), X.columns), reverse=True)[:15],\n",
    "                           columns=['Value','Feature'])\n",
    "plt.figure(figsize=(10,8))\n",
    "sns.barplot(x=\"Value\", y=\"Feature\", data=feature_imp.sort_values(by=\"Value\", ascending=False))\n",
    "plt.title('LightGBM Features')\n",
    "plt.tight_layout()\n",
    "plt.show()"
   ]
  },
  {
   "cell_type": "code",
   "execution_count": 31,
   "metadata": {},
   "outputs": [
    {
     "name": "stderr",
     "output_type": "stream",
     "text": [
      "/opt/conda/lib/python3.7/site-packages/lightgbm/engine.py:148: UserWarning: Found `num_iterations` in params. Will use it instead of argument\n",
      "  warnings.warn(\"Found `{}` in params. Will use it instead of argument\".format(alias))\n"
     ]
    },
    {
     "name": "stdout",
     "output_type": "stream",
     "text": [
      "Training until validation scores don't improve for 100 rounds\n",
      "[50]\ttraining's multi_logloss: 0.586474\tvalid_1's multi_logloss: 0.587292\n",
      "[100]\ttraining's multi_logloss: 0.359991\tvalid_1's multi_logloss: 0.360585\n",
      "[150]\ttraining's multi_logloss: 0.22544\tvalid_1's multi_logloss: 0.226085\n",
      "[200]\ttraining's multi_logloss: 0.143824\tvalid_1's multi_logloss: 0.14444\n",
      "[250]\ttraining's multi_logloss: 0.0871026\tvalid_1's multi_logloss: 0.0875801\n",
      "[300]\ttraining's multi_logloss: 0.0599173\tvalid_1's multi_logloss: 0.0603686\n",
      "[350]\ttraining's multi_logloss: 0.0400665\tvalid_1's multi_logloss: 0.0404626\n",
      "[400]\ttraining's multi_logloss: 0.0261205\tvalid_1's multi_logloss: 0.026428\n",
      "[450]\ttraining's multi_logloss: 0.0168463\tvalid_1's multi_logloss: 0.0170882\n",
      "[500]\ttraining's multi_logloss: 0.0111636\tvalid_1's multi_logloss: 0.0113499\n",
      "[550]\ttraining's multi_logloss: 0.00694023\tvalid_1's multi_logloss: 0.00707795\n",
      "[600]\ttraining's multi_logloss: 0.00463919\tvalid_1's multi_logloss: 0.00474377\n",
      "[650]\ttraining's multi_logloss: 0.00304509\tvalid_1's multi_logloss: 0.00312199\n",
      "[700]\ttraining's multi_logloss: 0.00204625\tvalid_1's multi_logloss: 0.00210357\n",
      "[750]\ttraining's multi_logloss: 0.00137402\tvalid_1's multi_logloss: 0.00141616\n",
      "[800]\ttraining's multi_logloss: 0.000947342\tvalid_1's multi_logloss: 0.000978787\n",
      "Did not meet early stopping. Best iteration is:\n",
      "[800]\ttraining's multi_logloss: 0.000947342\tvalid_1's multi_logloss: 0.000978787\n",
      "Log Loss:  0.0009787867797110797\n",
      "Training until validation scores don't improve for 100 rounds\n"
     ]
    },
    {
     "name": "stderr",
     "output_type": "stream",
     "text": [
      "/opt/conda/lib/python3.7/site-packages/lightgbm/engine.py:148: UserWarning: Found `num_iterations` in params. Will use it instead of argument\n",
      "  warnings.warn(\"Found `{}` in params. Will use it instead of argument\".format(alias))\n"
     ]
    },
    {
     "name": "stdout",
     "output_type": "stream",
     "text": [
      "[50]\ttraining's multi_logloss: 0.585498\tvalid_1's multi_logloss: 0.587467\n",
      "[100]\ttraining's multi_logloss: 0.359288\tvalid_1's multi_logloss: 0.362248\n",
      "[150]\ttraining's multi_logloss: 0.224706\tvalid_1's multi_logloss: 0.227479\n",
      "[200]\ttraining's multi_logloss: 0.143287\tvalid_1's multi_logloss: 0.145526\n",
      "[250]\ttraining's multi_logloss: 0.0866886\tvalid_1's multi_logloss: 0.0883543\n",
      "[300]\ttraining's multi_logloss: 0.0595554\tvalid_1's multi_logloss: 0.0608585\n",
      "[350]\ttraining's multi_logloss: 0.039859\tvalid_1's multi_logloss: 0.0408841\n",
      "[400]\ttraining's multi_logloss: 0.0259456\tvalid_1's multi_logloss: 0.0267152\n",
      "[450]\ttraining's multi_logloss: 0.0167556\tvalid_1's multi_logloss: 0.0172854\n",
      "[500]\ttraining's multi_logloss: 0.0110988\tvalid_1's multi_logloss: 0.0114707\n",
      "[550]\ttraining's multi_logloss: 0.00690426\tvalid_1's multi_logloss: 0.00716114\n",
      "[600]\ttraining's multi_logloss: 0.0046156\tvalid_1's multi_logloss: 0.00480218\n",
      "[650]\ttraining's multi_logloss: 0.00302707\tvalid_1's multi_logloss: 0.00315875\n",
      "[700]\ttraining's multi_logloss: 0.00203403\tvalid_1's multi_logloss: 0.00212708\n",
      "[750]\ttraining's multi_logloss: 0.00136632\tvalid_1's multi_logloss: 0.00143197\n",
      "[800]\ttraining's multi_logloss: 0.000941365\tvalid_1's multi_logloss: 0.000989868\n",
      "Did not meet early stopping. Best iteration is:\n",
      "[800]\ttraining's multi_logloss: 0.000941365\tvalid_1's multi_logloss: 0.000989868\n",
      "Log Loss:  0.0009898678466581706\n",
      "Training until validation scores don't improve for 100 rounds\n"
     ]
    },
    {
     "name": "stderr",
     "output_type": "stream",
     "text": [
      "/opt/conda/lib/python3.7/site-packages/lightgbm/engine.py:148: UserWarning: Found `num_iterations` in params. Will use it instead of argument\n",
      "  warnings.warn(\"Found `{}` in params. Will use it instead of argument\".format(alias))\n"
     ]
    },
    {
     "name": "stdout",
     "output_type": "stream",
     "text": [
      "[50]\ttraining's multi_logloss: 0.585687\tvalid_1's multi_logloss: 0.590377\n",
      "[100]\ttraining's multi_logloss: 0.359231\tvalid_1's multi_logloss: 0.365272\n",
      "[150]\ttraining's multi_logloss: 0.224598\tvalid_1's multi_logloss: 0.22979\n",
      "[200]\ttraining's multi_logloss: 0.143161\tvalid_1's multi_logloss: 0.147429\n",
      "[250]\ttraining's multi_logloss: 0.086615\tvalid_1's multi_logloss: 0.089747\n",
      "[300]\ttraining's multi_logloss: 0.0594906\tvalid_1's multi_logloss: 0.0619503\n",
      "[350]\ttraining's multi_logloss: 0.0398006\tvalid_1's multi_logloss: 0.0416082\n",
      "[400]\ttraining's multi_logloss: 0.0259144\tvalid_1's multi_logloss: 0.0271748\n",
      "[450]\ttraining's multi_logloss: 0.0167411\tvalid_1's multi_logloss: 0.0176163\n",
      "[500]\ttraining's multi_logloss: 0.0110867\tvalid_1's multi_logloss: 0.0116989\n",
      "[550]\ttraining's multi_logloss: 0.00689385\tvalid_1's multi_logloss: 0.00730458\n",
      "[600]\ttraining's multi_logloss: 0.00460996\tvalid_1's multi_logloss: 0.00490003\n",
      "[650]\ttraining's multi_logloss: 0.0030236\tvalid_1's multi_logloss: 0.00322026\n",
      "[700]\ttraining's multi_logloss: 0.00203098\tvalid_1's multi_logloss: 0.00217056\n",
      "[750]\ttraining's multi_logloss: 0.00136352\tvalid_1's multi_logloss: 0.00146156\n",
      "[800]\ttraining's multi_logloss: 0.000938993\tvalid_1's multi_logloss: 0.00101087\n",
      "Did not meet early stopping. Best iteration is:\n",
      "[800]\ttraining's multi_logloss: 0.000938993\tvalid_1's multi_logloss: 0.00101087\n",
      "Log Loss:  0.0010108714033843814\n",
      "Training until validation scores don't improve for 100 rounds\n"
     ]
    },
    {
     "name": "stderr",
     "output_type": "stream",
     "text": [
      "/opt/conda/lib/python3.7/site-packages/lightgbm/engine.py:148: UserWarning: Found `num_iterations` in params. Will use it instead of argument\n",
      "  warnings.warn(\"Found `{}` in params. Will use it instead of argument\".format(alias))\n"
     ]
    },
    {
     "name": "stdout",
     "output_type": "stream",
     "text": [
      "[50]\ttraining's multi_logloss: 0.585742\tvalid_1's multi_logloss: 0.588008\n",
      "[100]\ttraining's multi_logloss: 0.359568\tvalid_1's multi_logloss: 0.362582\n",
      "[150]\ttraining's multi_logloss: 0.225268\tvalid_1's multi_logloss: 0.227976\n",
      "[200]\ttraining's multi_logloss: 0.143665\tvalid_1's multi_logloss: 0.14596\n",
      "[250]\ttraining's multi_logloss: 0.0870429\tvalid_1's multi_logloss: 0.0887567\n",
      "[300]\ttraining's multi_logloss: 0.0597868\tvalid_1's multi_logloss: 0.0611889\n",
      "[350]\ttraining's multi_logloss: 0.0399685\tvalid_1's multi_logloss: 0.04104\n",
      "[400]\ttraining's multi_logloss: 0.0260259\tvalid_1's multi_logloss: 0.026808\n",
      "[450]\ttraining's multi_logloss: 0.0167901\tvalid_1's multi_logloss: 0.0173551\n",
      "[500]\ttraining's multi_logloss: 0.0111399\tvalid_1's multi_logloss: 0.011545\n",
      "[550]\ttraining's multi_logloss: 0.00692901\tvalid_1's multi_logloss: 0.00719974\n",
      "[600]\ttraining's multi_logloss: 0.00462896\tvalid_1's multi_logloss: 0.00482667\n",
      "[650]\ttraining's multi_logloss: 0.00303436\tvalid_1's multi_logloss: 0.00317217\n",
      "[700]\ttraining's multi_logloss: 0.00203807\tvalid_1's multi_logloss: 0.00213496\n",
      "[750]\ttraining's multi_logloss: 0.00136832\tvalid_1's multi_logloss: 0.0014366\n",
      "[800]\ttraining's multi_logloss: 0.000942585\tvalid_1's multi_logloss: 0.000992974\n",
      "Did not meet early stopping. Best iteration is:\n",
      "[800]\ttraining's multi_logloss: 0.000942585\tvalid_1's multi_logloss: 0.000992974\n",
      "Log Loss:  0.0009929735662488766\n",
      "Training until validation scores don't improve for 100 rounds\n"
     ]
    },
    {
     "name": "stderr",
     "output_type": "stream",
     "text": [
      "/opt/conda/lib/python3.7/site-packages/lightgbm/engine.py:148: UserWarning: Found `num_iterations` in params. Will use it instead of argument\n",
      "  warnings.warn(\"Found `{}` in params. Will use it instead of argument\".format(alias))\n"
     ]
    },
    {
     "name": "stdout",
     "output_type": "stream",
     "text": [
      "[50]\ttraining's multi_logloss: 0.585249\tvalid_1's multi_logloss: 0.588894\n",
      "[100]\ttraining's multi_logloss: 0.359178\tvalid_1's multi_logloss: 0.363221\n",
      "[150]\ttraining's multi_logloss: 0.224522\tvalid_1's multi_logloss: 0.228094\n",
      "[200]\ttraining's multi_logloss: 0.143403\tvalid_1's multi_logloss: 0.14615\n",
      "[250]\ttraining's multi_logloss: 0.0867589\tvalid_1's multi_logloss: 0.0887536\n",
      "[300]\ttraining's multi_logloss: 0.0596773\tvalid_1's multi_logloss: 0.0612585\n",
      "[350]\ttraining's multi_logloss: 0.0399137\tvalid_1's multi_logloss: 0.0411279\n",
      "[400]\ttraining's multi_logloss: 0.0259853\tvalid_1's multi_logloss: 0.0268665\n",
      "[450]\ttraining's multi_logloss: 0.0167868\tvalid_1's multi_logloss: 0.0174151\n",
      "[500]\ttraining's multi_logloss: 0.0111215\tvalid_1's multi_logloss: 0.0115724\n",
      "[550]\ttraining's multi_logloss: 0.00691614\tvalid_1's multi_logloss: 0.00722248\n",
      "[600]\ttraining's multi_logloss: 0.00462197\tvalid_1's multi_logloss: 0.0048438\n",
      "[650]\ttraining's multi_logloss: 0.00303334\tvalid_1's multi_logloss: 0.0031905\n",
      "[700]\ttraining's multi_logloss: 0.00203801\tvalid_1's multi_logloss: 0.00214942\n",
      "[750]\ttraining's multi_logloss: 0.00136824\tvalid_1's multi_logloss: 0.00144825\n",
      "[800]\ttraining's multi_logloss: 0.000942279\tvalid_1's multi_logloss: 0.00100246\n",
      "Did not meet early stopping. Best iteration is:\n",
      "[800]\ttraining's multi_logloss: 0.000942279\tvalid_1's multi_logloss: 0.00100246\n",
      "Log Loss:  0.0010024611329501085\n",
      "Training until validation scores don't improve for 100 rounds\n"
     ]
    },
    {
     "name": "stderr",
     "output_type": "stream",
     "text": [
      "/opt/conda/lib/python3.7/site-packages/lightgbm/engine.py:148: UserWarning: Found `num_iterations` in params. Will use it instead of argument\n",
      "  warnings.warn(\"Found `{}` in params. Will use it instead of argument\".format(alias))\n"
     ]
    },
    {
     "name": "stdout",
     "output_type": "stream",
     "text": [
      "[50]\ttraining's multi_logloss: 0.586415\tvalid_1's multi_logloss: 0.588718\n",
      "[100]\ttraining's multi_logloss: 0.360297\tvalid_1's multi_logloss: 0.363521\n",
      "[150]\ttraining's multi_logloss: 0.225381\tvalid_1's multi_logloss: 0.22847\n",
      "[200]\ttraining's multi_logloss: 0.143736\tvalid_1's multi_logloss: 0.1464\n",
      "[250]\ttraining's multi_logloss: 0.0869229\tvalid_1's multi_logloss: 0.0888272\n",
      "[300]\ttraining's multi_logloss: 0.0597729\tvalid_1's multi_logloss: 0.0613922\n",
      "[350]\ttraining's multi_logloss: 0.0400065\tvalid_1's multi_logloss: 0.0412266\n",
      "[400]\ttraining's multi_logloss: 0.0260522\tvalid_1's multi_logloss: 0.0269319\n",
      "[450]\ttraining's multi_logloss: 0.0168046\tvalid_1's multi_logloss: 0.017426\n",
      "[500]\ttraining's multi_logloss: 0.0111302\tvalid_1's multi_logloss: 0.0115857\n",
      "[550]\ttraining's multi_logloss: 0.00692648\tvalid_1's multi_logloss: 0.00722555\n",
      "[600]\ttraining's multi_logloss: 0.00462738\tvalid_1's multi_logloss: 0.0048384\n",
      "[650]\ttraining's multi_logloss: 0.00303487\tvalid_1's multi_logloss: 0.00318296\n",
      "[700]\ttraining's multi_logloss: 0.00203869\tvalid_1's multi_logloss: 0.00214589\n",
      "[750]\ttraining's multi_logloss: 0.00136821\tvalid_1's multi_logloss: 0.00144514\n",
      "[800]\ttraining's multi_logloss: 0.00094281\tvalid_1's multi_logloss: 0.000998185\n",
      "Did not meet early stopping. Best iteration is:\n",
      "[800]\ttraining's multi_logloss: 0.00094281\tvalid_1's multi_logloss: 0.000998185\n",
      "Log Loss:  0.0009981845630515314\n"
     ]
    }
   ],
   "source": [
    "err = []\n",
    "fold = StratifiedKFold(n_splits=6, shuffle=True, random_state=42)\n",
    "for train_index, test_index in fold.split(X, y):\n",
    "    \n",
    "    X_train, X_cv = X.loc[train_index], X.loc[test_index]\n",
    "    y_train, y_cv = y[train_index], y[test_index]\n",
    "    \n",
    "    train_data = lgb.Dataset(X_train, label=y_train)\n",
    "    val_data = lgb.Dataset(X_cv, label=y_cv)\n",
    "    \n",
    "    clf = lgb.train(params=param, \n",
    "                     early_stopping_rounds=100,\n",
    "                     verbose_eval=50,\n",
    "                     train_set=train_data,\n",
    "                     valid_sets=[train_data, val_data])\n",
    "\n",
    "    y_pred = clf.predict(X_cv)\n",
    "    print(\"Log Loss: \", (log_loss(y_cv, y_pred)))\n",
    "    err.append(log_loss(y_cv, y_pred))"
   ]
  },
  {
   "cell_type": "code",
   "execution_count": 32,
   "metadata": {},
   "outputs": [
    {
     "data": {
      "text/plain": [
       "0.000995524215334025"
      ]
     },
     "execution_count": 32,
     "metadata": {},
     "output_type": "execute_result"
    }
   ],
   "source": [
    "np.mean(err,0)"
   ]
  },
  {
   "cell_type": "code",
   "execution_count": null,
   "metadata": {},
   "outputs": [],
   "source": []
  },
  {
   "cell_type": "code",
   "execution_count": null,
   "metadata": {},
   "outputs": [],
   "source": []
  }
 ],
 "metadata": {
  "kernelspec": {
   "display_name": "Python 3",
   "language": "python",
   "name": "python3"
  },
  "language_info": {
   "codemirror_mode": {
    "name": "ipython",
    "version": 3
   },
   "file_extension": ".py",
   "mimetype": "text/x-python",
   "name": "python",
   "nbconvert_exporter": "python",
   "pygments_lexer": "ipython3",
   "version": "3.7.4"
  }
 },
 "nbformat": 4,
 "nbformat_minor": 4
}
