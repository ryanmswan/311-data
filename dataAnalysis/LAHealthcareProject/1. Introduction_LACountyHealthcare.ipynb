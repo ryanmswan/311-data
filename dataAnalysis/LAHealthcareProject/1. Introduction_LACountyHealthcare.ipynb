{
 "cells": [
  {
   "cell_type": "markdown",
   "metadata": {},
   "source": [
    "### Impacts of Public Healthcare on Los Angeles Community\n",
    "\n",
    "#### Introduction:\n",
    "\n",
    "This project explores \n",
    "\n",
    "1) how quality and quantity of Public Healthcare programs such as Children and Family Services, Medical Screening and Testing Services, Disability Support Services significantly affects the overall well-being of LA county residents, the safety and development of neighborhoods. \n",
    "\n",
    "2) Impacts of Medically Underserved Areas, Populations and Primary Care Shortages on community welfare\n",
    "\n",
    "3) LA vs other counties in State of California \n",
    "\n",
    "\n",
    "#### Steps:\n",
    "\n",
    "This project is grouped into 4 parts \n",
    "\n",
    "a)\tData Research\n",
    "\n",
    "b) Data Scraping Cleaning and Merging (13 Merged Datasets)\n",
    "   \n",
    "   For analysis and Modeling, we will use 2 Merged LA+CA Datasets: \n",
    "              \n",
    "                                                  i) la_all_serv_facilpcua.pkl\n",
    "                                                  \n",
    "                                                  ii) la_all_serv_facilmua.pkl\n",
    "                                                  \n",
    "   Further data scraping and merging explanation can be found in  3. DataScraping_13MergedDatasets.ipynb\n",
    "\n",
    "c)\tData Analysis from different perspectives (utilizing various merged datasets)\n",
    "\n",
    "d)\tModeling\n",
    "\n",
    "\n",
    "#### Notebooks: \n",
    "\n",
    "#### Data Research: Please refer to 2. Healthcare_DataMiningResearch.ipynb \n",
    "\n",
    "#### Data Scraping and Merging: Please refer to 3. DataScraping_13MergedDatasets.ipynb\n",
    "\n",
    "Data Analysis: Future work (Updates coming soon!!)\n",
    "\n",
    "Modeling: Future Work (Updates coming soon!!)\n",
    "\n",
    "\n"
   ]
  },
  {
   "cell_type": "code",
   "execution_count": null,
   "metadata": {},
   "outputs": [],
   "source": []
  }
 ],
 "metadata": {
  "kernelspec": {
   "display_name": "Python 3",
   "language": "python",
   "name": "python3"
  },
  "language_info": {
   "codemirror_mode": {
    "name": "ipython",
    "version": 3
   },
   "file_extension": ".py",
   "mimetype": "text/x-python",
   "name": "python",
   "nbconvert_exporter": "python",
   "pygments_lexer": "ipython3",
   "version": "3.7.4"
  }
 },
 "nbformat": 4,
 "nbformat_minor": 2
}
